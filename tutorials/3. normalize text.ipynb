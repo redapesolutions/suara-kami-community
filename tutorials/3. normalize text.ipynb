{
 "cells": [
  {
   "cell_type": "code",
   "execution_count": 1,
   "metadata": {},
   "outputs": [],
   "source": [
    "!pip install jiwer -qq"
   ]
  },
  {
   "cell_type": "code",
   "execution_count": 2,
   "metadata": {},
   "outputs": [],
   "source": [
    "%load_ext autoreload\n",
    "%autoreload 2"
   ]
  },
  {
   "cell_type": "code",
   "execution_count": 3,
   "metadata": {},
   "outputs": [],
   "source": [
    "import sys\n",
    "sys.path.append('..')"
   ]
  },
  {
   "cell_type": "code",
   "execution_count": 4,
   "metadata": {},
   "outputs": [],
   "source": [
    "from predict import predict\n",
    "import onnxruntime\n",
    "import onnx\n",
    "from pathlib import Path\n",
    "import jiwer\n",
    "import pandas as pd\n",
    "from utils import get_files\n",
    "from pdb import set_trace\n",
    "from words2num import normalize\n",
    "pd.set_option('max_colwidth', 400)"
   ]
  },
  {
   "cell_type": "code",
   "execution_count": 5,
   "metadata": {},
   "outputs": [],
   "source": [
    "model = onnx.load(\"/content/output.onnx\")\n",
    "model = onnxruntime.InferenceSession(model.SerializeToString())"
   ]
  },
  {
   "cell_type": "code",
   "execution_count": 6,
   "metadata": {},
   "outputs": [],
   "source": [
    "data_path = \"/content/test-bahasa/\""
   ]
  },
  {
   "cell_type": "code",
   "execution_count": 7,
   "metadata": {},
   "outputs": [
    {
     "data": {
      "text/plain": [
       "(#780) [PosixPath('/content/test-bahasa/wattpad-audio-wattpad-648.txt'),PosixPath('/content/test-bahasa/-home-husein-speech-bahasa-news-audio-403.txt'),PosixPath('/content/test-bahasa/-home-husein-speech-bahasa-streaming-berakhir dengan kekalahan perancis.txt'),PosixPath('/content/test-bahasa/wattpad-audio-wattpad-102.txt'),PosixPath('/content/test-bahasa/-home-husein-speech-bahasa-news-audio-254.txt'),PosixPath('/content/test-bahasa/-home-husein-speech-bahasa-haqkiem-LJ183-000005.txt'),PosixPath('/content/test-bahasa/iium-audio-iium-87.txt'),PosixPath('/content/test-bahasa/-home-husein-speech-bahasa-sebut-perkataan-man-amangkurat.txt'),PosixPath('/content/test-bahasa/-home-husein-speech-bahasa-haqkiem-LJ241-000005.txt'),PosixPath('/content/test-bahasa/-home-husein-speech-bahasa-sebut-perkataan-man-akronim.txt')...]"
      ]
     },
     "execution_count": 7,
     "metadata": {},
     "output_type": "execute_result"
    }
   ],
   "source": [
    "txts = get_files(data_path,[\".txt\"],recurse=True)\n",
    "txts"
   ]
  },
  {
   "cell_type": "code",
   "execution_count": 8,
   "metadata": {},
   "outputs": [],
   "source": [
    "# find data with number in it\n",
    "nombor = [\"satu\",\"dua\",'tiga','puluh','ratus','ribu']\n",
    "filtered_wavs = []\n",
    "for i in txts:\n",
    "    text = i.read_text().split()\n",
    "    got = any([i in nombor for i in text])\n",
    "    if got:\n",
    "        filtered_wavs.append(i.with_suffix(\".wav\"))"
   ]
  },
  {
   "cell_type": "markdown",
   "metadata": {},
   "source": [
    "# Predict single or multiple file"
   ]
  },
  {
   "cell_type": "code",
   "execution_count": 9,
   "metadata": {},
   "outputs": [
    {
     "name": "stderr",
     "output_type": "stream",
     "text": [
      "100%|██████████| 37/37 [00:24<00:00,  1.50it/s]\n"
     ]
    }
   ],
   "source": [
    "preds,files,entropy = predict(model,filtered_wavs)"
   ]
  },
  {
   "cell_type": "code",
   "execution_count": 10,
   "metadata": {},
   "outputs": [
    {
     "name": "stdout",
     "output_type": "stream",
     "text": [
      "Invalid number state from D to D dua puluh enam empat\n"
     ]
    }
   ],
   "source": [
    "data = []\n",
    "for i,j in zip(preds,files):\n",
    "    label = j.with_suffix('.txt').read_text()\n",
    "    data.append([label,i,normalize(i)])"
   ]
  },
  {
   "cell_type": "code",
   "execution_count": 11,
   "metadata": {},
   "outputs": [
    {
     "data": {
      "text/html": [
       "<div>\n",
       "<style scoped>\n",
       "    .dataframe tbody tr th:only-of-type {\n",
       "        vertical-align: middle;\n",
       "    }\n",
       "\n",
       "    .dataframe tbody tr th {\n",
       "        vertical-align: top;\n",
       "    }\n",
       "\n",
       "    .dataframe thead th {\n",
       "        text-align: right;\n",
       "    }\n",
       "</style>\n",
       "<table border=\"1\" class=\"dataframe\">\n",
       "  <thead>\n",
       "    <tr style=\"text-align: right;\">\n",
       "      <th></th>\n",
       "      <th>label</th>\n",
       "      <th>pred</th>\n",
       "      <th>norm_pred</th>\n",
       "    </tr>\n",
       "  </thead>\n",
       "  <tbody>\n",
       "    <tr>\n",
       "      <th>0</th>\n",
       "      <td>wong menyifatkan hantaran facebook itu sebagai satu cara</td>\n",
       "      <td>wang menyifartkan hantaran facebook itu sebagai satu cara</td>\n",
       "      <td>wang menyifartkan hantaran facebook itu sebagai 1 cara</td>\n",
       "    </tr>\n",
       "    <tr>\n",
       "      <th>1</th>\n",
       "      <td>di kamar dengan dua tempat tidur</td>\n",
       "      <td>di kamar dengan dua tempat tidur</td>\n",
       "      <td>di kamar dengan 2 tempat tidur</td>\n",
       "    </tr>\n",
       "    <tr>\n",
       "      <th>2</th>\n",
       "      <td>studi ini juga mendapati sebanyak empat puluh tiga percent anak yang datang</td>\n",
       "      <td>studi ini juga mendapati sebanyak empat puluh tiga persen anak yang datang</td>\n",
       "      <td>studi ini juga mendapati sebanyak 43 persen anak yang datang</td>\n",
       "    </tr>\n",
       "    <tr>\n",
       "      <th>3</th>\n",
       "      <td>kenapa pembenci muslihat membuat kebohongan tanpa satu bukti</td>\n",
       "      <td>kenapa pembenci muslihat membuat kebohongan tanpa satu bukti</td>\n",
       "      <td>kenapa pembenci muslihat membuat kebohongan tanpa 1 bukti</td>\n",
       "    </tr>\n",
       "    <tr>\n",
       "      <th>4</th>\n",
       "      <td>diikuti siswa siswi kelas sebelas ipa tiga dibelakangnya termasuk libra dan geng</td>\n",
       "      <td>diikuti siswa siswi kelas sebelas ip tiga di belakangnya termasuk libra</td>\n",
       "      <td>diikuti siswa siswi kelas 11 ip 3 di belakangnya termasuk libra</td>\n",
       "    </tr>\n",
       "    <tr>\n",
       "      <th>5</th>\n",
       "      <td>gila cape banget kecepatan lari kamu kalau lagi panik nambah dua kali</td>\n",
       "      <td>kilah capit bangyit kecapatan lari kamu kalau lagi panik enambah dua kali</td>\n",
       "      <td>kilah capit bangyit kecapatan lari kamu kalau lagi panik enambah 2 kali</td>\n",
       "    </tr>\n",
       "    <tr>\n",
       "      <th>6</th>\n",
       "      <td>empat puluh lima ahli belia yang dilantik itu menjadi penyambung legasi</td>\n",
       "      <td>empat puluh lima ahli belia yang dilantik itu menjadi penyambung legasi</td>\n",
       "      <td>45 ahli belia yang dilantik itu menjadi penyambung legasi</td>\n",
       "    </tr>\n",
       "    <tr>\n",
       "      <th>7</th>\n",
       "      <td>mereka berjalan menyusuri koridor kelas dua belas atau biasa disebut jalan pintas</td>\n",
       "      <td>mereka berjalan menyusuri koridor kelas dua belas atau biasa disebut jalan pintas</td>\n",
       "      <td>mereka berjalan menyusuri koridor kelas 12 atau biasa disebut jalan pintas</td>\n",
       "    </tr>\n",
       "    <tr>\n",
       "      <th>8</th>\n",
       "      <td>aku harap tak adalah orang racist komen kat sini pasal indo dan kenapa banyak dua negara mesti nak pilih indo pulak</td>\n",
       "      <td>aku harap tak adalah orang racis komen kat sini pasalan indo dan kenapa banyak dua negri</td>\n",
       "      <td>aku harap tak adalah orang racis komen kat sini pasalan indo dan kenapa banyak 2 negri</td>\n",
       "    </tr>\n",
       "    <tr>\n",
       "      <th>9</th>\n",
       "      <td>adakah ia ok kerana seorang lelaki berusia tiga puluh tujuh tahun</td>\n",
       "      <td>adakah ia okey kerana seorang lelaki berusia tiga puluh tujuh tahun</td>\n",
       "      <td>adakah ia okey kerana seorang lelaki berusia 37 tahun</td>\n",
       "    </tr>\n",
       "  </tbody>\n",
       "</table>\n",
       "</div>"
      ],
      "text/plain": [
       "                                                                                                                 label  ...                                                                               norm_pred\n",
       "0                                                             wong menyifatkan hantaran facebook itu sebagai satu cara  ...                                  wang menyifartkan hantaran facebook itu sebagai 1 cara\n",
       "1                                                                                     di kamar dengan dua tempat tidur  ...                                                          di kamar dengan 2 tempat tidur\n",
       "2                                          studi ini juga mendapati sebanyak empat puluh tiga percent anak yang datang  ...                            studi ini juga mendapati sebanyak 43 persen anak yang datang\n",
       "3                                                         kenapa pembenci muslihat membuat kebohongan tanpa satu bukti  ...                               kenapa pembenci muslihat membuat kebohongan tanpa 1 bukti\n",
       "4                                     diikuti siswa siswi kelas sebelas ipa tiga dibelakangnya termasuk libra dan geng  ...                         diikuti siswa siswi kelas 11 ip 3 di belakangnya termasuk libra\n",
       "5                                                gila cape banget kecepatan lari kamu kalau lagi panik nambah dua kali  ...                 kilah capit bangyit kecapatan lari kamu kalau lagi panik enambah 2 kali\n",
       "6                                              empat puluh lima ahli belia yang dilantik itu menjadi penyambung legasi  ...                               45 ahli belia yang dilantik itu menjadi penyambung legasi\n",
       "7                                    mereka berjalan menyusuri koridor kelas dua belas atau biasa disebut jalan pintas  ...              mereka berjalan menyusuri koridor kelas 12 atau biasa disebut jalan pintas\n",
       "8  aku harap tak adalah orang racist komen kat sini pasal indo dan kenapa banyak dua negara mesti nak pilih indo pulak  ...  aku harap tak adalah orang racis komen kat sini pasalan indo dan kenapa banyak 2 negri\n",
       "9                                                    adakah ia ok kerana seorang lelaki berusia tiga puluh tujuh tahun  ...                                   adakah ia okey kerana seorang lelaki berusia 37 tahun\n",
       "\n",
       "[10 rows x 3 columns]"
      ]
     },
     "execution_count": 11,
     "metadata": {},
     "output_type": "execute_result"
    }
   ],
   "source": [
    "df = pd.DataFrame(data)\n",
    "df.columns = [\"label\",\"pred\",\"norm_pred\"]\n",
    "df.head(10)"
   ]
  },
  {
   "cell_type": "code",
   "execution_count": 12,
   "metadata": {},
   "outputs": [],
   "source": [
    "# word to num normalization still wip, let use know if found a bug so we can fix it asap\n",
    "# TODO: fix ip address digit spelling"
   ]
  },
  {
   "cell_type": "code",
   "execution_count": null,
   "metadata": {},
   "outputs": [],
   "source": []
  }
 ],
 "metadata": {
  "kernelspec": {
   "display_name": "Python 3",
   "language": "python",
   "name": "python3"
  },
  "language_info": {
   "codemirror_mode": {
    "name": "ipython",
    "version": 3
   },
   "file_extension": ".py",
   "mimetype": "text/x-python",
   "name": "python",
   "nbconvert_exporter": "python",
   "pygments_lexer": "ipython3",
   "version": "3.7.10"
  }
 },
 "nbformat": 4,
 "nbformat_minor": 2
}
