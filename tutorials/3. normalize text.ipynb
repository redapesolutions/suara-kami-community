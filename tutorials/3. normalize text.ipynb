{
 "cells": [
  {
   "cell_type": "code",
   "execution_count": 1,
   "metadata": {},
   "outputs": [],
   "source": [
    "# !pip install jiwer -qq"
   ]
  },
  {
   "cell_type": "code",
   "execution_count": 1,
   "metadata": {},
   "outputs": [],
   "source": [
    "%load_ext autoreload\n",
    "%autoreload 2"
   ]
  },
  {
   "cell_type": "code",
   "execution_count": 2,
   "metadata": {},
   "outputs": [],
   "source": [
    "import sys\n",
    "sys.path.append('..')"
   ]
  },
  {
   "cell_type": "code",
   "execution_count": 3,
   "metadata": {},
   "outputs": [],
   "source": [
    "from predict import predict\n",
    "import onnxruntime\n",
    "import onnx\n",
    "from pathlib import Path\n",
    "import jiwer\n",
    "import pandas as pd\n",
    "from helper import get_files\n",
    "from pdb import set_trace\n",
    "from words2num import normalize\n",
    "pd.set_option('max_colwidth', 400)"
   ]
  },
  {
   "cell_type": "code",
   "execution_count": 4,
   "metadata": {},
   "outputs": [],
   "source": [
    "model = onnx.load(\"/content/output.onnx\")\n",
    "model = onnxruntime.InferenceSession(model.SerializeToString())"
   ]
  },
  {
   "cell_type": "code",
   "execution_count": 5,
   "metadata": {},
   "outputs": [],
   "source": [
    "data_path = \"/content/test-bahasa/\""
   ]
  },
  {
   "cell_type": "code",
   "execution_count": 6,
   "metadata": {},
   "outputs": [
    {
     "data": {
      "text/plain": [
       "(#780) [PosixPath('/content/test-bahasa/iium-audio-iium-95.txt'),PosixPath('/content/test-bahasa/wattpad-audio-wattpad-655.txt'),PosixPath('/content/test-bahasa/-home-husein-speech-bahasa-sebut-perkataan-man-almukhalis.txt'),PosixPath('/content/test-bahasa/wattpad-audio-wattpad-61.txt'),PosixPath('/content/test-bahasa/-home-husein-speech-bahasa-streaming-sendiri melalui bunyi berirama.txt'),PosixPath('/content/test-bahasa/-home-husein-speech-bahasa-sebut-perkataan-man-alot.txt'),PosixPath('/content/test-bahasa/-home-husein-speech-bahasa-news-audio-243.txt'),PosixPath('/content/test-bahasa/-home-husein-speech-bahasa-haqkiem-LJ090-000005.txt'),PosixPath('/content/test-bahasa/iium-audio-iium-49.txt'),PosixPath('/content/test-bahasa/-home-husein-speech-bahasa-haqkiem-LJ263-000005.txt')...]"
      ]
     },
     "execution_count": 6,
     "metadata": {},
     "output_type": "execute_result"
    }
   ],
   "source": [
    "txts = get_files(data_path,[\".txt\"],recurse=True)\n",
    "txts"
   ]
  },
  {
   "cell_type": "code",
   "execution_count": 7,
   "metadata": {},
   "outputs": [],
   "source": [
    "# find data with number in it\n",
    "nombor = [\"satu\",\"dua\",'tiga','puluh','ratus','ribu'] # can add more text if want to filter more\n",
    "filtered_wavs = []\n",
    "for i in txts:\n",
    "    text = i.read_text().split()\n",
    "    got = any([i in nombor for i in text])\n",
    "    if got:\n",
    "        filtered_wavs.append(i.with_suffix(\".wav\"))"
   ]
  },
  {
   "cell_type": "markdown",
   "metadata": {},
   "source": [
    "# Predict single or multiple file"
   ]
  },
  {
   "cell_type": "code",
   "execution_count": 8,
   "metadata": {},
   "outputs": [
    {
     "name": "stderr",
     "output_type": "stream",
     "text": [
      "100%|██████████| 37/37 [00:13<00:00,  2.66it/s]\n"
     ]
    }
   ],
   "source": [
    "preds,files,entropy,timesteps = predict(model,filtered_wavs)"
   ]
  },
  {
   "cell_type": "code",
   "execution_count": 12,
   "metadata": {},
   "outputs": [],
   "source": [
    "data = []\n",
    "for i,j in zip(preds,files):\n",
    "    label = j.with_suffix('.txt').read_text()\n",
    "    data.append([label,normalize(i),i])"
   ]
  },
  {
   "cell_type": "code",
   "execution_count": 13,
   "metadata": {},
   "outputs": [
    {
     "data": {
      "text/html": [
       "<div>\n",
       "<style scoped>\n",
       "    .dataframe tbody tr th:only-of-type {\n",
       "        vertical-align: middle;\n",
       "    }\n",
       "\n",
       "    .dataframe tbody tr th {\n",
       "        vertical-align: top;\n",
       "    }\n",
       "\n",
       "    .dataframe thead th {\n",
       "        text-align: right;\n",
       "    }\n",
       "</style>\n",
       "<table border=\"1\" class=\"dataframe\">\n",
       "  <thead>\n",
       "    <tr style=\"text-align: right;\">\n",
       "      <th></th>\n",
       "      <th>label</th>\n",
       "      <th>norm_pred</th>\n",
       "      <th>pred</th>\n",
       "    </tr>\n",
       "  </thead>\n",
       "  <tbody>\n",
       "    <tr>\n",
       "      <th>0</th>\n",
       "      <td>studi ini juga mendapati sebanyak empat puluh tiga percent anak yang datang</td>\n",
       "      <td>studi ini juga mendapati sebanyak 43 persen anak yang datang</td>\n",
       "      <td>studi ini juga mendapati sebanyak empat puluh tiga persen anak yang datang</td>\n",
       "    </tr>\n",
       "    <tr>\n",
       "      <th>1</th>\n",
       "      <td>pengalaman aku aku satu geng nak makan tengahari beli makanan aku ambik lauk telur jela nak jimat kawan aku ini ambik lauk ayam</td>\n",
       "      <td>penggalaman aku aku 1 geng nak makan tengah hari boleh makanan aku ambil laut telur jelar na mjimat kawan aku ini ambil laut ayam</td>\n",
       "      <td>penggalaman aku aku satu geng nak makan tengah hari boleh makanan aku ambil laut telur jelar na mjimat kawan aku ini ambil laut ayam</td>\n",
       "    </tr>\n",
       "    <tr>\n",
       "      <th>2</th>\n",
       "      <td>mengikuti dua jam pelajaran bersama pak dadi rasanya libra ingin cepat cepat</td>\n",
       "      <td>mengikuti 2 jam pelajaran bersama 4 dadi rasanya libirat ingin cepat cepat</td>\n",
       "      <td>mengikuti dua jam pelajaran bersama empat dadi rasanya libirat ingin cepat cepat</td>\n",
       "    </tr>\n",
       "    <tr>\n",
       "      <th>3</th>\n",
       "      <td>setahun yang lalu ketika baru satu bulan semenjak libra sma libra sudah merasa</td>\n",
       "      <td>setahun yang lalu ketika baru 1 bulan semenjak liberat sma ibras sudah merasa</td>\n",
       "      <td>setahun yang lalu ketika baru satu bulan semenjak liberat sma ibras sudah merasa</td>\n",
       "    </tr>\n",
       "    <tr>\n",
       "      <th>4</th>\n",
       "      <td>baru dua langkah dari gedung sekolah tiba tiba yasmin yang berada ditengah</td>\n",
       "      <td>baru 2 langkah dari gedung sekolah tiba tiba ya simin yang berada di tengah</td>\n",
       "      <td>baru dua langkah dari gedung sekolah tiba tiba ya simin yang berada di tengah</td>\n",
       "    </tr>\n",
       "    <tr>\n",
       "      <th>5</th>\n",
       "      <td>empat puluh lima ahli belia yang dilantik itu menjadi penyambung legasi</td>\n",
       "      <td>45 ahli belia yang dilantik itu menjadi penyambung legasi</td>\n",
       "      <td>empat puluh lima ahli belia yang dilantik itu menjadi penyambung legasi</td>\n",
       "    </tr>\n",
       "    <tr>\n",
       "      <th>6</th>\n",
       "      <td>may berharap perjanjian itu akan selesai sebelum dua puluh dua mei</td>\n",
       "      <td>mai berharap penjanjian itu akan selesai sebelum 22 mai</td>\n",
       "      <td>mai berharap penjanjian itu akan selesai sebelum dua puluh dua mai</td>\n",
       "    </tr>\n",
       "    <tr>\n",
       "      <th>7</th>\n",
       "      <td>satu elemen utama teori ini adalah peranan elit politik</td>\n",
       "      <td>1 elemen utama teori ini adalah peranan elit politik</td>\n",
       "      <td>satu elemen utama teori ini adalah peranan elit politik</td>\n",
       "    </tr>\n",
       "    <tr>\n",
       "      <th>8</th>\n",
       "      <td>ipa tiga arahnya tepat mengenai punggung salah satu siswi dikelas tersebut</td>\n",
       "      <td>ipa 3 arahnya tepat mengenai punggung salah 1 sisui di kelas tersebut</td>\n",
       "      <td>ipa tiga arahnya tepat mengenai punggung salah satu sisui di kelas tersebut</td>\n",
       "    </tr>\n",
       "    <tr>\n",
       "      <th>9</th>\n",
       "      <td>gila cape banget kecepatan lari kamu kalau lagi panik nambah dua kali</td>\n",
       "      <td>kilah capit bangyit kecapatan lari kamu kalau lagi panik enambah 2 kali</td>\n",
       "      <td>kilah capit bangyit kecapatan lari kamu kalau lagi panik enambah dua kali</td>\n",
       "    </tr>\n",
       "    <tr>\n",
       "      <th>10</th>\n",
       "      <td>adakah ia buruk bahawa iq saya ialah dua ratus empat puluh sembilan</td>\n",
       "      <td>adakah ia buruk bahawa iku saya ialah 249</td>\n",
       "      <td>adakah ia buruk bahawa iku saya ialah dua ratus empat puluh sembilan</td>\n",
       "    </tr>\n",
       "    <tr>\n",
       "      <th>11</th>\n",
       "      <td>adakah ia baik untuk seorang wanita berumur dua belas tahun</td>\n",
       "      <td>adakah ia baik untuk seorang wanita berumur 12 tahun</td>\n",
       "      <td>adakah ia baik untuk seorang wanita berumur dua belas tahun</td>\n",
       "    </tr>\n",
       "    <tr>\n",
       "      <th>12</th>\n",
       "      <td>aku harap tak adalah orang racist komen kat sini pasal indo dan kenapa banyak dua negara mesti nak pilih indo pulak</td>\n",
       "      <td>aku harap tak adalah orang racis komen kat sini pasalan indu dan kenapa banyak 2 negara mesti nak pilih indu pula</td>\n",
       "      <td>aku harap tak adalah orang racis komen kat sini pasalan indu dan kenapa banyak dua negara mesti nak pilih indu pula</td>\n",
       "    </tr>\n",
       "    <tr>\n",
       "      <th>13</th>\n",
       "      <td>bayangkan sudah lah ibu tunggal anak dua laki pulak makin bermasalah ketika itu</td>\n",
       "      <td>bayangkan sudahlain ibu tunggal anak 2 lelaki pula makin bermasalah ketika itu</td>\n",
       "      <td>bayangkan sudahlain ibu tunggal anak dua lelaki pula makin bermasalah ketika itu</td>\n",
       "    </tr>\n",
       "    <tr>\n",
       "      <th>14</th>\n",
       "      <td>bandung dua ribu tujuh belas</td>\n",
       "      <td>bandung 2017</td>\n",
       "      <td>bandung dua ribu tujuh belas</td>\n",
       "    </tr>\n",
       "    <tr>\n",
       "      <th>15</th>\n",
       "      <td>udah nanya pr buat besok lagi sih ujar yasmin salah satu teman dekat libra</td>\n",
       "      <td>udahnanya pr buat besok lagi sih ujar yasmin salah 1 teman dekat libera</td>\n",
       "      <td>udahnanya pr buat besok lagi sih ujar yasmin salah satu teman dekat libera</td>\n",
       "    </tr>\n",
       "    <tr>\n",
       "      <th>16</th>\n",
       "      <td>adakah ia ok kerana seorang lelaki berusia tiga puluh tujuh tahun</td>\n",
       "      <td>adakah ia okey kerana seorang lelaki berusia 37 tahun</td>\n",
       "      <td>adakah ia okey kerana seorang lelaki berusia tiga puluh tujuh tahun</td>\n",
       "    </tr>\n",
       "    <tr>\n",
       "      <th>17</th>\n",
       "      <td>phuket kochi dari rm tiga ratus sembilan puluh sembilan bali dari rm enam ratus dua puluh sembilan nanjing dari rm lima ratus lapan puluh sembilan</td>\n",
       "      <td>buket koci dari rm 300 simbila 9 bali dari rngm 629 nanjing dari rm 589</td>\n",
       "      <td>buket koci dari rm tiga ratus simbila puluh sembilan bali dari rngm enam ratus dua puluh sembilan nanjing dari rm lima ratus lapan puluh sembilan</td>\n",
       "    </tr>\n",
       "    <tr>\n",
       "      <th>18</th>\n",
       "      <td>mereka berjalan menyusuri koridor kelas dua belas atau biasa disebut jalan pintas</td>\n",
       "      <td>mereka berjalan menyusuri koridor kelas 12 atau biasa disebut jalan pintas</td>\n",
       "      <td>mereka berjalan menyusuri koridor kelas dua belas atau biasa disebut jalan pintas</td>\n",
       "    </tr>\n",
       "    <tr>\n",
       "      <th>19</th>\n",
       "      <td>aku ada dua orang sahabat baik</td>\n",
       "      <td>aku ada 2 orang sahabat baik</td>\n",
       "      <td>aku ada dua orang sahabat baik</td>\n",
       "    </tr>\n",
       "  </tbody>\n",
       "</table>\n",
       "</div>"
      ],
      "text/plain": [
       "                                                                                                                                                 label  ...                                                                                                                                               pred\n",
       "0                                                                          studi ini juga mendapati sebanyak empat puluh tiga percent anak yang datang  ...                                                                         studi ini juga mendapati sebanyak empat puluh tiga persen anak yang datang\n",
       "1                      pengalaman aku aku satu geng nak makan tengahari beli makanan aku ambik lauk telur jela nak jimat kawan aku ini ambik lauk ayam  ...               penggalaman aku aku satu geng nak makan tengah hari boleh makanan aku ambil laut telur jelar na mjimat kawan aku ini ambil laut ayam\n",
       "2                                                                         mengikuti dua jam pelajaran bersama pak dadi rasanya libra ingin cepat cepat  ...                                                                   mengikuti dua jam pelajaran bersama empat dadi rasanya libirat ingin cepat cepat\n",
       "3                                                                       setahun yang lalu ketika baru satu bulan semenjak libra sma libra sudah merasa  ...                                                                   setahun yang lalu ketika baru satu bulan semenjak liberat sma ibras sudah merasa\n",
       "4                                                                           baru dua langkah dari gedung sekolah tiba tiba yasmin yang berada ditengah  ...                                                                      baru dua langkah dari gedung sekolah tiba tiba ya simin yang berada di tengah\n",
       "5                                                                              empat puluh lima ahli belia yang dilantik itu menjadi penyambung legasi  ...                                                                            empat puluh lima ahli belia yang dilantik itu menjadi penyambung legasi\n",
       "6                                                                                   may berharap perjanjian itu akan selesai sebelum dua puluh dua mei  ...                                                                                 mai berharap penjanjian itu akan selesai sebelum dua puluh dua mai\n",
       "7                                                                                              satu elemen utama teori ini adalah peranan elit politik  ...                                                                                            satu elemen utama teori ini adalah peranan elit politik\n",
       "8                                                                           ipa tiga arahnya tepat mengenai punggung salah satu siswi dikelas tersebut  ...                                                                        ipa tiga arahnya tepat mengenai punggung salah satu sisui di kelas tersebut\n",
       "9                                                                                gila cape banget kecepatan lari kamu kalau lagi panik nambah dua kali  ...                                                                          kilah capit bangyit kecapatan lari kamu kalau lagi panik enambah dua kali\n",
       "10                                                                                 adakah ia buruk bahawa iq saya ialah dua ratus empat puluh sembilan  ...                                                                               adakah ia buruk bahawa iku saya ialah dua ratus empat puluh sembilan\n",
       "11                                                                                         adakah ia baik untuk seorang wanita berumur dua belas tahun  ...                                                                                        adakah ia baik untuk seorang wanita berumur dua belas tahun\n",
       "12                                 aku harap tak adalah orang racist komen kat sini pasal indo dan kenapa banyak dua negara mesti nak pilih indo pulak  ...                                aku harap tak adalah orang racis komen kat sini pasalan indu dan kenapa banyak dua negara mesti nak pilih indu pula\n",
       "13                                                                     bayangkan sudah lah ibu tunggal anak dua laki pulak makin bermasalah ketika itu  ...                                                                   bayangkan sudahlain ibu tunggal anak dua lelaki pula makin bermasalah ketika itu\n",
       "14                                                                                                                        bandung dua ribu tujuh belas  ...                                                                                                                       bandung dua ribu tujuh belas\n",
       "15                                                                          udah nanya pr buat besok lagi sih ujar yasmin salah satu teman dekat libra  ...                                                                         udahnanya pr buat besok lagi sih ujar yasmin salah satu teman dekat libera\n",
       "16                                                                                   adakah ia ok kerana seorang lelaki berusia tiga puluh tujuh tahun  ...                                                                                adakah ia okey kerana seorang lelaki berusia tiga puluh tujuh tahun\n",
       "17  phuket kochi dari rm tiga ratus sembilan puluh sembilan bali dari rm enam ratus dua puluh sembilan nanjing dari rm lima ratus lapan puluh sembilan  ...  buket koci dari rm tiga ratus simbila puluh sembilan bali dari rngm enam ratus dua puluh sembilan nanjing dari rm lima ratus lapan puluh sembilan\n",
       "18                                                                   mereka berjalan menyusuri koridor kelas dua belas atau biasa disebut jalan pintas  ...                                                                  mereka berjalan menyusuri koridor kelas dua belas atau biasa disebut jalan pintas\n",
       "19                                                                                                                      aku ada dua orang sahabat baik  ...                                                                                                                     aku ada dua orang sahabat baik\n",
       "\n",
       "[20 rows x 3 columns]"
      ]
     },
     "execution_count": 13,
     "metadata": {},
     "output_type": "execute_result"
    }
   ],
   "source": [
    "df = pd.DataFrame(data)\n",
    "df.columns = [\"label\",\"norm_pred\",\"pred\"]\n",
    "df.head(20)"
   ]
  },
  {
   "cell_type": "code",
   "execution_count": 12,
   "metadata": {},
   "outputs": [],
   "source": [
    "# word to num normalization still wip, let use know if found a bug so we can fix it ASAP\n",
    "# TODO: fix ip address digit spelling space"
   ]
  },
  {
   "cell_type": "code",
   "execution_count": null,
   "metadata": {},
   "outputs": [],
   "source": []
  }
 ],
 "metadata": {
  "kernelspec": {
   "display_name": "Python 3",
   "language": "python",
   "name": "python3"
  },
  "language_info": {
   "codemirror_mode": {
    "name": "ipython",
    "version": 3
   },
   "file_extension": ".py",
   "mimetype": "text/x-python",
   "name": "python",
   "nbconvert_exporter": "python",
   "pygments_lexer": "ipython3",
   "version": "3.7.11"
  }
 },
 "nbformat": 4,
 "nbformat_minor": 2
}
