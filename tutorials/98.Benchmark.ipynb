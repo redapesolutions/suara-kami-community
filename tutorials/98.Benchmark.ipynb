{
 "cells": [
  {
   "cell_type": "code",
   "execution_count": 1,
   "metadata": {},
   "outputs": [],
   "source": [
    "# !pip install SpeechRecognition -qq"
   ]
  },
  {
   "cell_type": "code",
   "execution_count": 2,
   "metadata": {},
   "outputs": [],
   "source": [
    "import speech_recognition as sr\n",
    "from jiwer import compute_measures\n",
    "import string\n",
    "import numpy as np\n",
    "r = sr.Recognizer()"
   ]
  },
  {
   "cell_type": "code",
   "execution_count": 3,
   "metadata": {},
   "outputs": [
    {
     "data": {
      "text/plain": [
       "(#780) [PosixPath('/content/test-bahasa/-home-husein-speech-bahasa-news-audio-1044.wav'),PosixPath('/content/test-bahasa/-home-husein-speech-bahasa-haqkiem-LJ182-000005.wav'),PosixPath('/content/test-bahasa/-home-husein-speech-bahasa-streaming-kawasan pentadbiran dengan daripadanya.wav'),PosixPath('/content/test-bahasa/-home-husein-speech-bahasa-haqkiem-LJ178-000005.wav'),PosixPath('/content/test-bahasa/-home-husein-speech-bahasa-haqkiem-LJ219-000005.wav'),PosixPath('/content/test-bahasa/wattpad-audio-wattpad-1.wav'),PosixPath('/content/test-bahasa/-home-husein-speech-bahasa-haqkiem-LJ275-000005.wav'),PosixPath('/content/test-bahasa/iium-audio-iium-30.wav'),PosixPath('/content/test-bahasa/iium-audio-iium-8.wav'),PosixPath('/content/test-bahasa/iium-audio-iium-92.wav')...]"
      ]
     },
     "execution_count": 3,
     "metadata": {},
     "output_type": "execute_result"
    }
   ],
   "source": [
    "from sk import get_files,predict,process_text,load_model\n",
    "audios = get_files(\"/content/test-bahasa/\",[\".wav\"],recurse=True)\n",
    "audios"
   ]
  },
  {
   "cell_type": "code",
   "execution_count": 4,
   "metadata": {},
   "outputs": [],
   "source": [
    "no_digit_text = [i.with_suffix(\".txt\").read_text() for i in audios]\n",
    "with_digit_text = [i.with_suffix(\".txt\").read_text() for i in get_files(\"/content/test-bahasa-norm/\",[\".wav\"],recurse=True)]"
   ]
  },
  {
   "cell_type": "code",
   "execution_count": null,
   "metadata": {},
   "outputs": [],
   "source": []
  },
  {
   "cell_type": "code",
   "execution_count": 5,
   "metadata": {},
   "outputs": [],
   "source": [
    "def google(audio):\n",
    "    with sr.AudioFile(str(audio)) as source:\n",
    "        a = r.record(source)\n",
    "\n",
    "    text = r.recognize_google(a, language = 'ms')\n",
    "    text = process_text(text)\n",
    "    return text"
   ]
  },
  {
   "cell_type": "code",
   "execution_count": 6,
   "metadata": {},
   "outputs": [
    {
     "name": "stderr",
     "output_type": "stream",
     "text": [
      "SUBMITTING | : 100%|██████████| 780/780 [00:00<00:00, 47622.31it/s]\n",
      "PROCESSING | : 100%|██████████| 780/780 [01:10<00:00, 11.03it/s]\n",
      "COLLECTING | : 100%|██████████| 780/780 [00:00<00:00, 328469.59it/s]"
     ]
    },
    {
     "name": "stdout",
     "output_type": "stream",
     "text": [
      "CPU times: user 2.55 s, sys: 5.53 s, total: 8.08 s\n",
      "Wall time: 1min 10s\n"
     ]
    },
    {
     "name": "stderr",
     "output_type": "stream",
     "text": [
      "\n"
     ]
    }
   ],
   "source": [
    "%%time\n",
    "from pqdm.threads import pqdm\n",
    "\n",
    "g_texts = pqdm(audios,google,n_jobs=4)"
   ]
  },
  {
   "cell_type": "code",
   "execution_count": 7,
   "metadata": {},
   "outputs": [
    {
     "data": {
      "text/plain": [
       "(0.1526626638039393, 0.05278555178451872)"
      ]
     },
     "execution_count": 7,
     "metadata": {},
     "output_type": "execute_result"
    }
   ],
   "source": [
    "g_d_wer = [compute_measures(i,j)[\"wer\"] for i,j in zip(with_digit_text,g_texts)]\n",
    "g_d_cer = [compute_measures([ii for ii in i],[jj for jj in j])[\"wer\"] for i,j in zip(with_digit_text,g_texts)]\n",
    "np.mean(g_d_wer),np.mean(g_d_cer) # with digit"
   ]
  },
  {
   "cell_type": "code",
   "execution_count": 8,
   "metadata": {},
   "outputs": [
    {
     "data": {
      "text/plain": [
       "(0.1611180648863363, 0.060634040454885504)"
      ]
     },
     "execution_count": 8,
     "metadata": {},
     "output_type": "execute_result"
    }
   ],
   "source": [
    "g_n_wer = [compute_measures(i,j)[\"wer\"] for i,j in zip(no_digit_text,g_texts)]\n",
    "g_n_cer = [compute_measures([ii for ii in i],[jj for jj in j])[\"wer\"] for i,j in zip(no_digit_text,g_texts)]\n",
    "np.mean(g_n_wer),np.mean(g_n_cer) # no digit"
   ]
  },
  {
   "cell_type": "code",
   "execution_count": 9,
   "metadata": {},
   "outputs": [
    {
     "name": "stdout",
     "output_type": "stream",
     "text": [
      "loading model\n",
      "loading language model\n"
     ]
    },
    {
     "name": "stderr",
     "output_type": "stream",
     "text": [
      "100%|██████████| 1/1 [00:00<00:00, 11.39it/s]"
     ]
    },
    {
     "name": "stdout",
     "output_type": "stream",
     "text": [
      "Total input path: 1\n",
      "Total audio found: 1\n",
      "start prediction\n"
     ]
    },
    {
     "name": "stderr",
     "output_type": "stream",
     "text": [
      "\n"
     ]
    }
   ],
   "source": [
    "# warm up\n",
    "predict(audios[0],decoder=\"/content/out.trie.klm\");"
   ]
  },
  {
   "cell_type": "code",
   "execution_count": 10,
   "metadata": {},
   "outputs": [
    {
     "name": "stdout",
     "output_type": "stream",
     "text": [
      "loading model\n",
      "loading language model\n",
      "Total input path: 780\n"
     ]
    },
    {
     "name": "stderr",
     "output_type": "stream",
     "text": [
      "  0%|          | 2/780 [00:00<00:45, 16.96it/s]"
     ]
    },
    {
     "name": "stdout",
     "output_type": "stream",
     "text": [
      "Total audio found: 780\n",
      "start prediction\n"
     ]
    },
    {
     "name": "stderr",
     "output_type": "stream",
     "text": [
      "100%|██████████| 780/780 [01:02<00:00, 12.56it/s]"
     ]
    },
    {
     "name": "stdout",
     "output_type": "stream",
     "text": [
      "CPU times: user 4min 4s, sys: 103 ms, total: 4min 4s\n",
      "Wall time: 1min 2s\n"
     ]
    },
    {
     "name": "stderr",
     "output_type": "stream",
     "text": [
      "\n"
     ]
    }
   ],
   "source": [
    "%%time\n",
    "texts,_,_,_ = predict(audios,decoder=\"/content/out.trie.klm\")"
   ]
  },
  {
   "cell_type": "code",
   "execution_count": 11,
   "metadata": {},
   "outputs": [
    {
     "data": {
      "text/plain": [
       "(0.1403347652637663, 0.03999910945695737)"
      ]
     },
     "execution_count": 11,
     "metadata": {},
     "output_type": "execute_result"
    }
   ],
   "source": [
    "from words2num import normalize\n",
    "n_texts = [normalize(i) for i in texts]\n",
    "# with digit\n",
    "sk_d_wer = [compute_measures(i,j)[\"wer\"] for i,j in zip(with_digit_text,n_texts)]\n",
    "sk_d_cer = [compute_measures([ii for ii in i],[jj for jj in j])[\"wer\"] for i,j in zip(with_digit_text,n_texts)]\n",
    "np.mean(sk_d_wer),np.mean(sk_d_cer) "
   ]
  },
  {
   "cell_type": "code",
   "execution_count": 12,
   "metadata": {},
   "outputs": [
    {
     "data": {
      "text/plain": [
       "(0.13508409027804705, 0.036035160999825)"
      ]
     },
     "execution_count": 12,
     "metadata": {},
     "output_type": "execute_result"
    }
   ],
   "source": [
    "# no digit\n",
    "sk_n_wer = [compute_measures(i,j)[\"wer\"] for i,j in zip(no_digit_text,texts)]\n",
    "sk_n_cer = [compute_measures([ii for ii in i],[jj for jj in j])[\"wer\"] for i,j in zip(no_digit_text,texts)]\n",
    "np.mean(sk_n_wer),np.mean(sk_n_cer)"
   ]
  },
  {
   "cell_type": "code",
   "execution_count": 13,
   "metadata": {
    "scrolled": false
   },
   "outputs": [
    {
     "data": {
      "text/html": [
       "<div>\n",
       "<style scoped>\n",
       "    .dataframe tbody tr th:only-of-type {\n",
       "        vertical-align: middle;\n",
       "    }\n",
       "\n",
       "    .dataframe tbody tr th {\n",
       "        vertical-align: top;\n",
       "    }\n",
       "\n",
       "    .dataframe thead th {\n",
       "        text-align: right;\n",
       "    }\n",
       "</style>\n",
       "<table border=\"1\" class=\"dataframe\">\n",
       "  <thead>\n",
       "    <tr style=\"text-align: right;\">\n",
       "      <th></th>\n",
       "      <th>path</th>\n",
       "      <th>no_digit_label</th>\n",
       "      <th>our</th>\n",
       "      <th>our_with_digit</th>\n",
       "      <th>with_digit_label</th>\n",
       "      <th>google</th>\n",
       "    </tr>\n",
       "  </thead>\n",
       "  <tbody>\n",
       "    <tr>\n",
       "      <th>0</th>\n",
       "      <td>/content/test-bahasa/-home-husein-speech-bahasa-news-audio-1044.wav</td>\n",
       "      <td>dan dokumen perjalanan bangladesh</td>\n",
       "      <td>dan dokumen perjalanan bangladesh</td>\n",
       "      <td>dan dokumen perjalanan bangladesh</td>\n",
       "      <td>dan dokumen perjalanan bangladesh</td>\n",
       "      <td>dan dokumen perjalanan bangladesh</td>\n",
       "    </tr>\n",
       "    <tr>\n",
       "      <th>1</th>\n",
       "      <td>/content/test-bahasa/-home-husein-speech-bahasa-haqkiem-LJ182-000005.wav</td>\n",
       "      <td>bagaimana anda akan menghentikan feminisme</td>\n",
       "      <td>bagaimana anda akan menghentikan faminism</td>\n",
       "      <td>bagaimana anda akan menghentikan faminism</td>\n",
       "      <td>bagaimana anda akan menghentikan feminisme</td>\n",
       "      <td>bagaimana anda akan menghentikan kami nizam</td>\n",
       "    </tr>\n",
       "    <tr>\n",
       "      <th>2</th>\n",
       "      <td>/content/test-bahasa/-home-husein-speech-bahasa-streaming-kawasan pentadbiran dengan daripadanya.wav</td>\n",
       "      <td>kawasan pentadbiran dengan daripadanya</td>\n",
       "      <td>kawasan pentadbiran dengan daripadanya</td>\n",
       "      <td>kawasan pentadbiran dengan daripadanya</td>\n",
       "      <td>kawasan pentadbiran dengan daripadanya</td>\n",
       "      <td>kawasan pentadbiran dengan daripadanya</td>\n",
       "    </tr>\n",
       "    <tr>\n",
       "      <th>3</th>\n",
       "      <td>/content/test-bahasa/-home-husein-speech-bahasa-haqkiem-LJ178-000005.wav</td>\n",
       "      <td>mengapa orang amerika putih takut kepada mexicans</td>\n",
       "      <td>mengapa orang amerika putih takut kepada maksikan</td>\n",
       "      <td>mengapa orang amerika putih takut kepada maksikan</td>\n",
       "      <td>mengapa orang amerika putih takut kepada mexicans</td>\n",
       "      <td>mengapa orang amerika putih takut kepada mexican</td>\n",
       "    </tr>\n",
       "    <tr>\n",
       "      <th>4</th>\n",
       "      <td>/content/test-bahasa/-home-husein-speech-bahasa-haqkiem-LJ219-000005.wav</td>\n",
       "      <td>daripada semua masalah dengan gereja mormon yang paling mengecewakan</td>\n",
       "      <td>daripada semua masalah dengan gereja mormon yang paling mengecewakan</td>\n",
       "      <td>daripada semua masalah dengan gereja mormon yang paling mengecewakan</td>\n",
       "      <td>daripada semua masalah dengan gereja mormon yang paling mengecewakan</td>\n",
       "      <td>daripada semua masalah dengan gereja mormon yang paling mengecewakan</td>\n",
       "    </tr>\n",
       "  </tbody>\n",
       "</table>\n",
       "</div>"
      ],
      "text/plain": [
       "                                                                                                   path  ...                                                                google\n",
       "0                                   /content/test-bahasa/-home-husein-speech-bahasa-news-audio-1044.wav  ...                                     dan dokumen perjalanan bangladesh\n",
       "1                              /content/test-bahasa/-home-husein-speech-bahasa-haqkiem-LJ182-000005.wav  ...                           bagaimana anda akan menghentikan kami nizam\n",
       "2  /content/test-bahasa/-home-husein-speech-bahasa-streaming-kawasan pentadbiran dengan daripadanya.wav  ...                                kawasan pentadbiran dengan daripadanya\n",
       "3                              /content/test-bahasa/-home-husein-speech-bahasa-haqkiem-LJ178-000005.wav  ...                      mengapa orang amerika putih takut kepada mexican\n",
       "4                              /content/test-bahasa/-home-husein-speech-bahasa-haqkiem-LJ219-000005.wav  ...  daripada semua masalah dengan gereja mormon yang paling mengecewakan\n",
       "\n",
       "[5 rows x 6 columns]"
      ]
     },
     "execution_count": 13,
     "metadata": {},
     "output_type": "execute_result"
    }
   ],
   "source": [
    "import pandas as pd\n",
    "pd.set_option('max_colwidth', 400)\n",
    "df = pd.DataFrame(zip(*[audios,no_digit_text,texts,n_texts,with_digit_text,g_texts]))\n",
    "df.columns = [\"path\",\"no_digit_label\",\"our\",\"our_with_digit\",\"with_digit_label\",\"google\"]\n",
    "df.head()"
   ]
  },
  {
   "cell_type": "code",
   "execution_count": 14,
   "metadata": {},
   "outputs": [],
   "source": [
    "def hasNumbers(inputString):\n",
    "    return any(char.isdigit() for char in inputString)"
   ]
  },
  {
   "cell_type": "code",
   "execution_count": 15,
   "metadata": {},
   "outputs": [
    {
     "data": {
      "text/html": [
       "<div>\n",
       "<style scoped>\n",
       "    .dataframe tbody tr th:only-of-type {\n",
       "        vertical-align: middle;\n",
       "    }\n",
       "\n",
       "    .dataframe tbody tr th {\n",
       "        vertical-align: top;\n",
       "    }\n",
       "\n",
       "    .dataframe thead th {\n",
       "        text-align: right;\n",
       "    }\n",
       "</style>\n",
       "<table border=\"1\" class=\"dataframe\">\n",
       "  <thead>\n",
       "    <tr style=\"text-align: right;\">\n",
       "      <th></th>\n",
       "      <th>path</th>\n",
       "      <th>no_digit_label</th>\n",
       "      <th>our</th>\n",
       "      <th>our_with_digit</th>\n",
       "      <th>with_digit_label</th>\n",
       "      <th>google</th>\n",
       "    </tr>\n",
       "  </thead>\n",
       "  <tbody>\n",
       "    <tr>\n",
       "      <th>63</th>\n",
       "      <td>/content/test-bahasa/-home-husein-speech-bahasa-haqkiem-LJ198-000005.wav</td>\n",
       "      <td>adakah ia baik untuk seorang wanita berumur dua belas tahun</td>\n",
       "      <td>adakah ia baik untuk seorang wanita berumur dua belas tahun</td>\n",
       "      <td>adakah ia baik untuk seorang wanita berumur 12 tahun</td>\n",
       "      <td>adakah ia baik untuk seorang wanita berumur 12 tahun</td>\n",
       "      <td>adakah ia baik untuk seorang wanita berumur 12 tahun</td>\n",
       "    </tr>\n",
       "    <tr>\n",
       "      <th>210</th>\n",
       "      <td>/content/test-bahasa/wattpad-audio-wattpad-47.wav</td>\n",
       "      <td>baru dua langkah dari gedung sekolah tiba tiba yasmin yang berada ditengah</td>\n",
       "      <td>baru dua langkah dari gedung sekolah tiba tiba yasmin yang berada di tengah</td>\n",
       "      <td>baru 2 langkah dari gedung sekolah tiba tiba yasmin yang berada di tengah</td>\n",
       "      <td>baru 2 langkah dari gedung sekolah tiba tiba yasmin yang berada ditengah</td>\n",
       "      <td>baru dua langkah dari gedung sekolah tiba tiba jasmine yang berada di tengah</td>\n",
       "    </tr>\n",
       "    <tr>\n",
       "      <th>229</th>\n",
       "      <td>/content/test-bahasa/-home-husein-speech-bahasa-haqkiem-LJ117-000005.wav</td>\n",
       "      <td>adakah buruk bahawa saya mencuri tujuh k barangan dari kedai runcit</td>\n",
       "      <td>adakah buruk bahawa saya mencuri tujuh ke barangan dari kedai runcit</td>\n",
       "      <td>adakah buruk bahawa saya mencuri 7 ke barangan dari kedai runcit</td>\n",
       "      <td>adakah buruk bahawa saya mencuri 7k barangan dari kedai runcit</td>\n",
       "      <td>adakah buruk bahawa saya mencuri 7k barangan dari kedai runcit</td>\n",
       "    </tr>\n",
       "    <tr>\n",
       "      <th>259</th>\n",
       "      <td>/content/test-bahasa/-home-husein-speech-bahasa-news-audio-1767.wav</td>\n",
       "      <td>studi ini juga mendapati sebanyak empat puluh tiga percent anak yang datang</td>\n",
       "      <td>studi ini juga mendapati sebanyak empat puluh tiga persen anak yang datang</td>\n",
       "      <td>studi ini juga mendapati sebanyak 43 persen anak yang datang</td>\n",
       "      <td>studi ini juga mendapati sebanyak 43 persen anak yang datang</td>\n",
       "      <td>study ini juga mendapati sebanyak 43 persen anak yang datang</td>\n",
       "    </tr>\n",
       "    <tr>\n",
       "      <th>266</th>\n",
       "      <td>/content/test-bahasa/-home-husein-speech-bahasa-news-audio-897.wav</td>\n",
       "      <td>phuket kochi dari rm tiga ratus sembilan puluh sembilan bali dari rm enam ratus dua puluh sembilan nanjing dari rm lima ratus lapan puluh sembilan</td>\n",
       "      <td>buket koci dari rm tiga ratus sembila puluh sembilan bali dari rm enam ratus dua puluh sembilan nanjing dari rm lima ratus lapan puluh sembilan</td>\n",
       "      <td>buket koci dari rm 300 sembila 9 bali dari rm 629 nanjing dari rm 589</td>\n",
       "      <td>phuket kochi dari rm359 bali dari rm629 nanjing dari rm589</td>\n",
       "      <td>phuket kochi dari rm359 bali dari rm600 29 nanjing dari rm589</td>\n",
       "    </tr>\n",
       "    <tr>\n",
       "      <th>296</th>\n",
       "      <td>/content/test-bahasa/-home-husein-speech-bahasa-news-audio-1529.wav</td>\n",
       "      <td>penelitian itu berdasarkan pada data lebih dari dua puluh tujuh ribu</td>\n",
       "      <td>penelitian itu berdasarkan pada data lebih dari dua puluh tujuh ribu</td>\n",
       "      <td>penelitian itu berdasarkan pada data lebih dari 27000</td>\n",
       "      <td>penelitian itu berdasarkan pada data lebih dari 27000</td>\n",
       "      <td>penelitian itu berdasarkan pada data lebih dari 27000</td>\n",
       "    </tr>\n",
       "    <tr>\n",
       "      <th>301</th>\n",
       "      <td>/content/test-bahasa/-home-husein-speech-bahasa-news-audio-394.wav</td>\n",
       "      <td>semenjak ianya ditubuhkan lebih dua puluh tahun yang lalu</td>\n",
       "      <td>semenjak ianya ditubuhkan lebih dua puluh tahun yang lalu</td>\n",
       "      <td>semenjak ianya ditubuhkan lebih 20 tahun yang lalu</td>\n",
       "      <td>semenjak ianya ditubuhkan lebih 20 tahun yang lalu</td>\n",
       "      <td>semenjak ianya ditubuhkan lebih 20 tahun yang lalu</td>\n",
       "    </tr>\n",
       "    <tr>\n",
       "      <th>313</th>\n",
       "      <td>/content/test-bahasa/wattpad-audio-wattpad-59.wav</td>\n",
       "      <td>ketika dia panik dia akan menangis selama kurang lebih lima belas minit menurut</td>\n",
       "      <td>ketika dia panik dia akan menangis selama kurang lebih lima belas minit menurut</td>\n",
       "      <td>ketika dia panik dia akan menangis selama kurang lebih 15 minit menurut</td>\n",
       "      <td>ketika dia panik dia akan menangis selama kurang lebih 15 minit menurut</td>\n",
       "      <td>ketika di planet dia akan menangis selama kurang lebih 15 menit menurut</td>\n",
       "    </tr>\n",
       "    <tr>\n",
       "      <th>322</th>\n",
       "      <td>/content/test-bahasa/-home-husein-speech-bahasa-haqkiem-LJ285-000005.wav</td>\n",
       "      <td>adakah wanita melakukannya dengan gaya anjing pada abad ke lapan belas</td>\n",
       "      <td>adakah wanita melakukannya dengan gaya anjing pada abad ke lapan belas</td>\n",
       "      <td>adakah wanita melakukannya dengan gaya anjing pada abad ke 18</td>\n",
       "      <td>adakah wanita melakukannya dengan gaya anjing pada abad ke 18</td>\n",
       "      <td>adakah wanita melakukannya dengan gaya anjing pada abad ke 18</td>\n",
       "    </tr>\n",
       "    <tr>\n",
       "      <th>345</th>\n",
       "      <td>/content/test-bahasa/-home-husein-speech-bahasa-haqkiem-LJ168-000005.wav</td>\n",
       "      <td>adakah ia ok kerana seorang lelaki berusia tiga puluh tujuh tahun</td>\n",
       "      <td>adakah ia okey kerana seorang lelaki berusia tiga puluh tujuh tahun</td>\n",
       "      <td>adakah ia okey kerana seorang lelaki berusia 37 tahun</td>\n",
       "      <td>adakah ia ok kerana seorang lelaki berusia 37 tahun</td>\n",
       "      <td>adakah ia okey kerana seorang lelaki berusia 37 tahun</td>\n",
       "    </tr>\n",
       "  </tbody>\n",
       "</table>\n",
       "</div>"
      ],
      "text/plain": [
       "                                                                         path  ...                                                                        google\n",
       "63   /content/test-bahasa/-home-husein-speech-bahasa-haqkiem-LJ198-000005.wav  ...                          adakah ia baik untuk seorang wanita berumur 12 tahun\n",
       "210                         /content/test-bahasa/wattpad-audio-wattpad-47.wav  ...  baru dua langkah dari gedung sekolah tiba tiba jasmine yang berada di tengah\n",
       "229  /content/test-bahasa/-home-husein-speech-bahasa-haqkiem-LJ117-000005.wav  ...                adakah buruk bahawa saya mencuri 7k barangan dari kedai runcit\n",
       "259       /content/test-bahasa/-home-husein-speech-bahasa-news-audio-1767.wav  ...                  study ini juga mendapati sebanyak 43 persen anak yang datang\n",
       "266        /content/test-bahasa/-home-husein-speech-bahasa-news-audio-897.wav  ...                 phuket kochi dari rm359 bali dari rm600 29 nanjing dari rm589\n",
       "296       /content/test-bahasa/-home-husein-speech-bahasa-news-audio-1529.wav  ...                         penelitian itu berdasarkan pada data lebih dari 27000\n",
       "301        /content/test-bahasa/-home-husein-speech-bahasa-news-audio-394.wav  ...                            semenjak ianya ditubuhkan lebih 20 tahun yang lalu\n",
       "313                         /content/test-bahasa/wattpad-audio-wattpad-59.wav  ...       ketika di planet dia akan menangis selama kurang lebih 15 menit menurut\n",
       "322  /content/test-bahasa/-home-husein-speech-bahasa-haqkiem-LJ285-000005.wav  ...                 adakah wanita melakukannya dengan gaya anjing pada abad ke 18\n",
       "345  /content/test-bahasa/-home-husein-speech-bahasa-haqkiem-LJ168-000005.wav  ...                         adakah ia okey kerana seorang lelaki berusia 37 tahun\n",
       "\n",
       "[10 rows x 6 columns]"
      ]
     },
     "execution_count": 15,
     "metadata": {},
     "output_type": "execute_result"
    }
   ],
   "source": [
    "df[df['with_digit_label'].apply(hasNumbers)].head(10)"
   ]
  },
  {
   "cell_type": "code",
   "execution_count": null,
   "metadata": {},
   "outputs": [],
   "source": []
  },
  {
   "cell_type": "markdown",
   "metadata": {},
   "source": [
    "# No digit dataset comparison"
   ]
  },
  {
   "cell_type": "code",
   "execution_count": 16,
   "metadata": {},
   "outputs": [
    {
     "data": {
      "text/html": [
       "<div>\n",
       "<style scoped>\n",
       "    .dataframe tbody tr th:only-of-type {\n",
       "        vertical-align: middle;\n",
       "    }\n",
       "\n",
       "    .dataframe tbody tr th {\n",
       "        vertical-align: top;\n",
       "    }\n",
       "\n",
       "    .dataframe thead th {\n",
       "        text-align: right;\n",
       "    }\n",
       "</style>\n",
       "<table border=\"1\" class=\"dataframe\">\n",
       "  <thead>\n",
       "    <tr style=\"text-align: right;\">\n",
       "      <th></th>\n",
       "      <th>path</th>\n",
       "      <th>no_digit_label</th>\n",
       "      <th>our</th>\n",
       "      <th>google</th>\n",
       "      <th>our_no_digit_cer</th>\n",
       "      <th>google_no_digit_cer</th>\n",
       "    </tr>\n",
       "  </thead>\n",
       "  <tbody>\n",
       "    <tr>\n",
       "      <th>761</th>\n",
       "      <td>/content/test-bahasa/wattpad-audio-wattpad-646.wav</td>\n",
       "      <td>who are you</td>\n",
       "      <td>ayu</td>\n",
       "      <td>how are you</td>\n",
       "      <td>0.666667</td>\n",
       "      <td>0.222222</td>\n",
       "    </tr>\n",
       "    <tr>\n",
       "      <th>450</th>\n",
       "      <td>/content/test-bahasa/-home-husein-speech-bahasa-streaming-iaitu paus odontoceti paus.wav</td>\n",
       "      <td>iaitu paus odontoceti paus</td>\n",
       "      <td>iaitu pawesordantercetipawes</td>\n",
       "      <td>iaitu power order cathy paus</td>\n",
       "      <td>0.347826</td>\n",
       "      <td>0.521739</td>\n",
       "    </tr>\n",
       "    <tr>\n",
       "      <th>352</th>\n",
       "      <td>/content/test-bahasa/-home-husein-speech-bahasa-haqkiem-LJ118-000005.wav</td>\n",
       "      <td>boleh fuckers quora sila tutup fuck tentang iq</td>\n",
       "      <td>boleh pakar sekolah sila tutup fak tentang itu</td>\n",
       "      <td>boleh fuckers kura sila tutup port tentang itu</td>\n",
       "      <td>0.307692</td>\n",
       "      <td>0.205128</td>\n",
       "    </tr>\n",
       "    <tr>\n",
       "      <th>664</th>\n",
       "      <td>/content/test-bahasa/-home-husein-speech-bahasa-sebut-perkataan-man-ampe.wav</td>\n",
       "      <td>sebut perkataan ampe</td>\n",
       "      <td>sebuk pakatan ampa</td>\n",
       "      <td>sebut perkataan apa</td>\n",
       "      <td>0.277778</td>\n",
       "      <td>0.111111</td>\n",
       "    </tr>\n",
       "    <tr>\n",
       "      <th>613</th>\n",
       "      <td>/content/test-bahasa/-home-husein-speech-bahasa-tolong-sebut-jarum.wav</td>\n",
       "      <td>tolong sebut jarum</td>\n",
       "      <td>tolosebutjarol</td>\n",
       "      <td>tolong sebut jarum</td>\n",
       "      <td>0.250000</td>\n",
       "      <td>0.000000</td>\n",
       "    </tr>\n",
       "  </tbody>\n",
       "</table>\n",
       "</div>"
      ],
      "text/plain": [
       "                                                                                         path                                  no_digit_label  ... our_no_digit_cer google_no_digit_cer\n",
       "761                                        /content/test-bahasa/wattpad-audio-wattpad-646.wav                                     who are you  ...         0.666667            0.222222\n",
       "450  /content/test-bahasa/-home-husein-speech-bahasa-streaming-iaitu paus odontoceti paus.wav                      iaitu paus odontoceti paus  ...         0.347826            0.521739\n",
       "352                  /content/test-bahasa/-home-husein-speech-bahasa-haqkiem-LJ118-000005.wav  boleh fuckers quora sila tutup fuck tentang iq  ...         0.307692            0.205128\n",
       "664              /content/test-bahasa/-home-husein-speech-bahasa-sebut-perkataan-man-ampe.wav                            sebut perkataan ampe  ...         0.277778            0.111111\n",
       "613                    /content/test-bahasa/-home-husein-speech-bahasa-tolong-sebut-jarum.wav                              tolong sebut jarum  ...         0.250000            0.000000\n",
       "\n",
       "[5 rows x 6 columns]"
      ]
     },
     "execution_count": 16,
     "metadata": {},
     "output_type": "execute_result"
    }
   ],
   "source": [
    "df = pd.DataFrame(zip(*[audios,no_digit_text,texts,g_texts,sk_n_cer,g_n_cer]))\n",
    "df.columns = [\"path\",\"no_digit_label\",\"our\",\"google\",\"our_no_digit_cer\",\"google_no_digit_cer\"]\n",
    "df = df.sort_values(\"our_no_digit_cer\",ascending=False)\n",
    "df.head()"
   ]
  },
  {
   "cell_type": "markdown",
   "metadata": {},
   "source": [
    "our model not that good with english word because it not in the training set we use for community model"
   ]
  },
  {
   "cell_type": "code",
   "execution_count": 17,
   "metadata": {},
   "outputs": [
    {
     "data": {
      "text/html": [
       "<div>\n",
       "<style scoped>\n",
       "    .dataframe tbody tr th:only-of-type {\n",
       "        vertical-align: middle;\n",
       "    }\n",
       "\n",
       "    .dataframe tbody tr th {\n",
       "        vertical-align: top;\n",
       "    }\n",
       "\n",
       "    .dataframe thead th {\n",
       "        text-align: right;\n",
       "    }\n",
       "</style>\n",
       "<table border=\"1\" class=\"dataframe\">\n",
       "  <thead>\n",
       "    <tr style=\"text-align: right;\">\n",
       "      <th></th>\n",
       "      <th>path</th>\n",
       "      <th>no_digit_label</th>\n",
       "      <th>our</th>\n",
       "      <th>google</th>\n",
       "      <th>our_no_digit_cer</th>\n",
       "      <th>google_no_digit_cer</th>\n",
       "    </tr>\n",
       "  </thead>\n",
       "  <tbody>\n",
       "    <tr>\n",
       "      <th>442</th>\n",
       "      <td>/content/test-bahasa/wattpad-audio-wattpad-7.wav</td>\n",
       "      <td>bandung dua ribu tujuh belas</td>\n",
       "      <td>bandung dua ribu tujuh belas</td>\n",
       "      <td>bandung 2017</td>\n",
       "      <td>0.000000</td>\n",
       "      <td>0.708333</td>\n",
       "    </tr>\n",
       "    <tr>\n",
       "      <th>373</th>\n",
       "      <td>/content/test-bahasa/-home-husein-speech-bahasa-news-audio-1757.wav</td>\n",
       "      <td>dua puluh enam empat</td>\n",
       "      <td>dua puluh enam empat</td>\n",
       "      <td>26 empat</td>\n",
       "      <td>0.000000</td>\n",
       "      <td>0.705882</td>\n",
       "    </tr>\n",
       "    <tr>\n",
       "      <th>266</th>\n",
       "      <td>/content/test-bahasa/-home-husein-speech-bahasa-news-audio-897.wav</td>\n",
       "      <td>phuket kochi dari rm tiga ratus sembilan puluh sembilan bali dari rm enam ratus dua puluh sembilan nanjing dari rm lima ratus lapan puluh sembilan</td>\n",
       "      <td>buket koci dari rm tiga ratus sembila puluh sembilan bali dari rm enam ratus dua puluh sembilan nanjing dari rm lima ratus lapan puluh sembilan</td>\n",
       "      <td>phuket kochi dari rm359 bali dari rm600 29 nanjing dari rm589</td>\n",
       "      <td>0.032787</td>\n",
       "      <td>0.672131</td>\n",
       "    </tr>\n",
       "    <tr>\n",
       "      <th>541</th>\n",
       "      <td>/content/test-bahasa/wattpad-audio-wattpad-544.wav</td>\n",
       "      <td>libras pov</td>\n",
       "      <td>liberas pov</td>\n",
       "      <td>libras theory</td>\n",
       "      <td>0.111111</td>\n",
       "      <td>0.555556</td>\n",
       "    </tr>\n",
       "    <tr>\n",
       "      <th>690</th>\n",
       "      <td>/content/test-bahasa/-home-husein-speech-bahasa-sebut-perkataan-man-agihnya.wav</td>\n",
       "      <td>sebut perkataan agihnya</td>\n",
       "      <td>sebut perkataan agihnya</td>\n",
       "      <td>kata anaknya</td>\n",
       "      <td>0.000000</td>\n",
       "      <td>0.523810</td>\n",
       "    </tr>\n",
       "  </tbody>\n",
       "</table>\n",
       "</div>"
      ],
      "text/plain": [
       "                                                                                path  ... google_no_digit_cer\n",
       "442                                 /content/test-bahasa/wattpad-audio-wattpad-7.wav  ...            0.708333\n",
       "373              /content/test-bahasa/-home-husein-speech-bahasa-news-audio-1757.wav  ...            0.705882\n",
       "266               /content/test-bahasa/-home-husein-speech-bahasa-news-audio-897.wav  ...            0.672131\n",
       "541                               /content/test-bahasa/wattpad-audio-wattpad-544.wav  ...            0.555556\n",
       "690  /content/test-bahasa/-home-husein-speech-bahasa-sebut-perkataan-man-agihnya.wav  ...            0.523810\n",
       "\n",
       "[5 rows x 6 columns]"
      ]
     },
     "execution_count": 17,
     "metadata": {},
     "output_type": "execute_result"
    }
   ],
   "source": [
    "df = df.sort_values(\"google_no_digit_cer\",ascending=False)\n",
    "df.head()"
   ]
  },
  {
   "cell_type": "markdown",
   "metadata": {},
   "source": [
    "most of the time google cer not good because it trying to predict digit for non digit dataset,that's why we provide separate dataset for fair comparison\n",
    "\n"
   ]
  },
  {
   "cell_type": "code",
   "execution_count": null,
   "metadata": {},
   "outputs": [],
   "source": []
  },
  {
   "cell_type": "markdown",
   "metadata": {},
   "source": [
    "# Digit dataset comparison"
   ]
  },
  {
   "cell_type": "code",
   "execution_count": 18,
   "metadata": {},
   "outputs": [
    {
     "data": {
      "text/html": [
       "<div>\n",
       "<style scoped>\n",
       "    .dataframe tbody tr th:only-of-type {\n",
       "        vertical-align: middle;\n",
       "    }\n",
       "\n",
       "    .dataframe tbody tr th {\n",
       "        vertical-align: top;\n",
       "    }\n",
       "\n",
       "    .dataframe thead th {\n",
       "        text-align: right;\n",
       "    }\n",
       "</style>\n",
       "<table border=\"1\" class=\"dataframe\">\n",
       "  <thead>\n",
       "    <tr style=\"text-align: right;\">\n",
       "      <th></th>\n",
       "      <th>path</th>\n",
       "      <th>digit_label</th>\n",
       "      <th>our</th>\n",
       "      <th>google</th>\n",
       "      <th>our_digit_cer</th>\n",
       "      <th>google_digit_cer</th>\n",
       "    </tr>\n",
       "  </thead>\n",
       "  <tbody>\n",
       "    <tr>\n",
       "      <th>373</th>\n",
       "      <td>/content/test-bahasa/-home-husein-speech-bahasa-news-audio-1757.wav</td>\n",
       "      <td>26 empat</td>\n",
       "      <td>26 4</td>\n",
       "      <td>26 empat</td>\n",
       "      <td>0.714286</td>\n",
       "      <td>0.000000</td>\n",
       "    </tr>\n",
       "    <tr>\n",
       "      <th>761</th>\n",
       "      <td>/content/test-bahasa/wattpad-audio-wattpad-646.wav</td>\n",
       "      <td>who are you</td>\n",
       "      <td>ayu</td>\n",
       "      <td>how are you</td>\n",
       "      <td>0.666667</td>\n",
       "      <td>0.222222</td>\n",
       "    </tr>\n",
       "    <tr>\n",
       "      <th>168</th>\n",
       "      <td>/content/test-bahasa/-home-husein-speech-bahasa-streaming-sementara empat ion bergabung.wav</td>\n",
       "      <td>sementara empat ion bergabung</td>\n",
       "      <td>sementara 4 ion penggabuh</td>\n",
       "      <td>sementara empat aeon bergabung</td>\n",
       "      <td>0.384615</td>\n",
       "      <td>0.076923</td>\n",
       "    </tr>\n",
       "    <tr>\n",
       "      <th>450</th>\n",
       "      <td>/content/test-bahasa/-home-husein-speech-bahasa-streaming-iaitu paus odontoceti paus.wav</td>\n",
       "      <td>iaitu paus odontoceti paus</td>\n",
       "      <td>iaitu pawesordantercetipawes</td>\n",
       "      <td>iaitu power order cathy paus</td>\n",
       "      <td>0.347826</td>\n",
       "      <td>0.521739</td>\n",
       "    </tr>\n",
       "    <tr>\n",
       "      <th>551</th>\n",
       "      <td>/content/test-bahasa/-home-husein-speech-bahasa-streaming-sepanyol juta pada tahun.wav</td>\n",
       "      <td>sepanyol juta pada tahun</td>\n",
       "      <td>sepanyol 1000000 pada tahun</td>\n",
       "      <td>sepanyol juta pada tahun</td>\n",
       "      <td>0.333333</td>\n",
       "      <td>0.000000</td>\n",
       "    </tr>\n",
       "  </tbody>\n",
       "</table>\n",
       "</div>"
      ],
      "text/plain": [
       "                                                                                            path                    digit_label  ... our_digit_cer google_digit_cer\n",
       "373                          /content/test-bahasa/-home-husein-speech-bahasa-news-audio-1757.wav                       26 empat  ...      0.714286         0.000000\n",
       "761                                           /content/test-bahasa/wattpad-audio-wattpad-646.wav                    who are you  ...      0.666667         0.222222\n",
       "168  /content/test-bahasa/-home-husein-speech-bahasa-streaming-sementara empat ion bergabung.wav  sementara empat ion bergabung  ...      0.384615         0.076923\n",
       "450     /content/test-bahasa/-home-husein-speech-bahasa-streaming-iaitu paus odontoceti paus.wav     iaitu paus odontoceti paus  ...      0.347826         0.521739\n",
       "551       /content/test-bahasa/-home-husein-speech-bahasa-streaming-sepanyol juta pada tahun.wav       sepanyol juta pada tahun  ...      0.333333         0.000000\n",
       "\n",
       "[5 rows x 6 columns]"
      ]
     },
     "execution_count": 18,
     "metadata": {},
     "output_type": "execute_result"
    }
   ],
   "source": [
    "df = pd.DataFrame(zip(*[audios,with_digit_text,n_texts,g_texts,sk_d_cer,g_d_cer]))\n",
    "df.columns = [\"path\",\"digit_label\",\"our\",\"google\",\"our_digit_cer\",\"google_digit_cer\"]\n",
    "df = df.sort_values(\"our_digit_cer\",ascending=False)\n",
    "df.head()"
   ]
  },
  {
   "cell_type": "markdown",
   "metadata": {},
   "source": [
    "- it seems that in written form even though it is a number if not more than 9 should not convert to digit\n",
    "- for juta(million) should not convert to digit too I guess(need to fix my normalization rule)"
   ]
  },
  {
   "cell_type": "markdown",
   "metadata": {},
   "source": [
    "let see what kind of error for google"
   ]
  },
  {
   "cell_type": "code",
   "execution_count": 19,
   "metadata": {},
   "outputs": [
    {
     "data": {
      "text/html": [
       "<div>\n",
       "<style scoped>\n",
       "    .dataframe tbody tr th:only-of-type {\n",
       "        vertical-align: middle;\n",
       "    }\n",
       "\n",
       "    .dataframe tbody tr th {\n",
       "        vertical-align: top;\n",
       "    }\n",
       "\n",
       "    .dataframe thead th {\n",
       "        text-align: right;\n",
       "    }\n",
       "</style>\n",
       "<table border=\"1\" class=\"dataframe\">\n",
       "  <thead>\n",
       "    <tr style=\"text-align: right;\">\n",
       "      <th></th>\n",
       "      <th>path</th>\n",
       "      <th>digit_label</th>\n",
       "      <th>our</th>\n",
       "      <th>google</th>\n",
       "      <th>our_digit_cer</th>\n",
       "      <th>google_digit_cer</th>\n",
       "    </tr>\n",
       "  </thead>\n",
       "  <tbody>\n",
       "    <tr>\n",
       "      <th>541</th>\n",
       "      <td>/content/test-bahasa/wattpad-audio-wattpad-544.wav</td>\n",
       "      <td>libras pov</td>\n",
       "      <td>liberas pov</td>\n",
       "      <td>libras theory</td>\n",
       "      <td>0.111111</td>\n",
       "      <td>0.555556</td>\n",
       "    </tr>\n",
       "    <tr>\n",
       "      <th>690</th>\n",
       "      <td>/content/test-bahasa/-home-husein-speech-bahasa-sebut-perkataan-man-agihnya.wav</td>\n",
       "      <td>sebut perkataan agihnya</td>\n",
       "      <td>sebut perkataan agihnya</td>\n",
       "      <td>kata anaknya</td>\n",
       "      <td>0.000000</td>\n",
       "      <td>0.523810</td>\n",
       "    </tr>\n",
       "    <tr>\n",
       "      <th>450</th>\n",
       "      <td>/content/test-bahasa/-home-husein-speech-bahasa-streaming-iaitu paus odontoceti paus.wav</td>\n",
       "      <td>iaitu paus odontoceti paus</td>\n",
       "      <td>iaitu pawesordantercetipawes</td>\n",
       "      <td>iaitu power order cathy paus</td>\n",
       "      <td>0.347826</td>\n",
       "      <td>0.521739</td>\n",
       "    </tr>\n",
       "    <tr>\n",
       "      <th>594</th>\n",
       "      <td>/content/test-bahasa/-home-husein-speech-bahasa-sebut-perkataan-man-ajal.wav</td>\n",
       "      <td>sebut perkataan ajal</td>\n",
       "      <td>sebut perkataan ajar</td>\n",
       "      <td>sebutkan saja</td>\n",
       "      <td>0.055556</td>\n",
       "      <td>0.444444</td>\n",
       "    </tr>\n",
       "    <tr>\n",
       "      <th>485</th>\n",
       "      <td>/content/test-bahasa/-home-husein-speech-bahasa-sebut-perkataan-man-adilkan.wav</td>\n",
       "      <td>sebut perkataan adilkan</td>\n",
       "      <td>sebut perkataan adilkan</td>\n",
       "      <td>perkataan ada dekat</td>\n",
       "      <td>0.000000</td>\n",
       "      <td>0.428571</td>\n",
       "    </tr>\n",
       "  </tbody>\n",
       "</table>\n",
       "</div>"
      ],
      "text/plain": [
       "                                                                                         path                 digit_label                           our                        google  our_digit_cer  google_digit_cer\n",
       "541                                        /content/test-bahasa/wattpad-audio-wattpad-544.wav                  libras pov                   liberas pov                 libras theory       0.111111          0.555556\n",
       "690           /content/test-bahasa/-home-husein-speech-bahasa-sebut-perkataan-man-agihnya.wav     sebut perkataan agihnya       sebut perkataan agihnya                  kata anaknya       0.000000          0.523810\n",
       "450  /content/test-bahasa/-home-husein-speech-bahasa-streaming-iaitu paus odontoceti paus.wav  iaitu paus odontoceti paus  iaitu pawesordantercetipawes  iaitu power order cathy paus       0.347826          0.521739\n",
       "594              /content/test-bahasa/-home-husein-speech-bahasa-sebut-perkataan-man-ajal.wav        sebut perkataan ajal          sebut perkataan ajar                 sebutkan saja       0.055556          0.444444\n",
       "485           /content/test-bahasa/-home-husein-speech-bahasa-sebut-perkataan-man-adilkan.wav     sebut perkataan adilkan       sebut perkataan adilkan           perkataan ada dekat       0.000000          0.428571"
      ]
     },
     "execution_count": 19,
     "metadata": {},
     "output_type": "execute_result"
    }
   ],
   "source": [
    "df = df.sort_values(\"google_digit_cer\",ascending=False)\n",
    "df.head()"
   ]
  },
  {
   "cell_type": "markdown",
   "metadata": {},
   "source": [
    "- no comment except that google wrongly predict the text"
   ]
  },
  {
   "cell_type": "code",
   "execution_count": null,
   "metadata": {},
   "outputs": [],
   "source": []
  },
  {
   "cell_type": "markdown",
   "metadata": {},
   "source": [
    "# Disclaimer"
   ]
  },
  {
   "cell_type": "markdown",
   "metadata": {},
   "source": [
    "- This benchmark only on Google Speech To Text that is free, the paid version might be better than this\n",
    "- The performance might varies if we test with different test set and domain(TODO)"
   ]
  },
  {
   "cell_type": "code",
   "execution_count": null,
   "metadata": {},
   "outputs": [],
   "source": []
  }
 ],
 "metadata": {
  "kernelspec": {
   "display_name": "Python 3",
   "language": "python",
   "name": "python3"
  },
  "language_info": {
   "codemirror_mode": {
    "name": "ipython",
    "version": 3
   },
   "file_extension": ".py",
   "mimetype": "text/x-python",
   "name": "python",
   "nbconvert_exporter": "python",
   "pygments_lexer": "ipython3",
   "version": "3.7.11"
  }
 },
 "nbformat": 4,
 "nbformat_minor": 2
}
