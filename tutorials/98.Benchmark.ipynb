{
 "cells": [
  {
   "cell_type": "code",
   "execution_count": 1,
   "metadata": {},
   "outputs": [],
   "source": [
    "# !pip install SpeechRecognition -qq"
   ]
  },
  {
   "cell_type": "code",
   "execution_count": 2,
   "metadata": {},
   "outputs": [],
   "source": [
    "import speech_recognition as sr\n",
    "from jiwer import compute_measures\n",
    "import string\n",
    "import numpy as np\n",
    "r = sr.Recognizer()"
   ]
  },
  {
   "cell_type": "code",
   "execution_count": 3,
   "metadata": {},
   "outputs": [
    {
     "data": {
      "text/plain": [
       "(#780) [PosixPath('/content/test-bahasa/-home-husein-speech-bahasa-sebut-perkataan-woman-boleh berubah.wav'),PosixPath('/content/test-bahasa/-home-husein-speech-bahasa-news-audio-910.wav'),PosixPath('/content/test-bahasa/-home-husein-speech-bahasa-haqkiem-LJ192-000005.wav'),PosixPath('/content/test-bahasa/-home-husein-speech-bahasa-streaming-kini didominasi ahli upm.wav'),PosixPath('/content/test-bahasa/wattpad-audio-wattpad-541.wav'),PosixPath('/content/test-bahasa/-home-husein-speech-bahasa-sebut-perkataan-man-akuk.wav'),PosixPath('/content/test-bahasa/-home-husein-speech-bahasa-news-audio-2188.wav'),PosixPath('/content/test-bahasa/wattpad-audio-wattpad-0.wav'),PosixPath('/content/test-bahasa/iium-audio-iium-80.wav'),PosixPath('/content/test-bahasa/iium-audio-iium-5.wav')...]"
      ]
     },
     "execution_count": 3,
     "metadata": {},
     "output_type": "execute_result"
    }
   ],
   "source": [
    "from sk import get_files,predict,process_text,load_model\n",
    "audios = get_files(\"/content/test-bahasa/\",[\".wav\"],recurse=True)\n",
    "audios"
   ]
  },
  {
   "cell_type": "code",
   "execution_count": 4,
   "metadata": {},
   "outputs": [],
   "source": [
    "no_digit_text = [i.with_suffix(\".txt\").read_text() for i in audios]\n",
    "with_digit_text = [i.with_suffix(\".txt\").read_text() for i in get_files(\"/content/test-bahasa-norm/\",[\".wav\"],recurse=True)]"
   ]
  },
  {
   "cell_type": "code",
   "execution_count": null,
   "metadata": {},
   "outputs": [],
   "source": []
  },
  {
   "cell_type": "code",
   "execution_count": 5,
   "metadata": {},
   "outputs": [],
   "source": [
    "def google(audio):\n",
    "    with sr.AudioFile(str(audio)) as source:\n",
    "        a = r.record(source)\n",
    "\n",
    "    try:\n",
    "        text = r.recognize_google(a, language = 'ms')\n",
    "    except Exception as e:\n",
    "        print(source,e)\n",
    "        text = \"\"\n",
    "    text = process_text(text)\n",
    "    return text"
   ]
  },
  {
   "cell_type": "code",
   "execution_count": 6,
   "metadata": {},
   "outputs": [
    {
     "name": "stderr",
     "output_type": "stream",
     "text": [
      "SUBMITTING | : 100%|██████████| 780/780 [00:00<00:00, 45045.40it/s]\n",
      "PROCESSING | : 100%|██████████| 780/780 [00:55<00:00, 14.16it/s]\n",
      "COLLECTING | : 100%|██████████| 780/780 [00:00<00:00, 310807.25it/s]"
     ]
    },
    {
     "name": "stdout",
     "output_type": "stream",
     "text": [
      "CPU times: user 2.48 s, sys: 4.89 s, total: 7.37 s\n",
      "Wall time: 55.1 s\n"
     ]
    },
    {
     "name": "stderr",
     "output_type": "stream",
     "text": [
      "\n"
     ]
    }
   ],
   "source": [
    "%%time\n",
    "from pqdm.threads import pqdm\n",
    "\n",
    "g_texts = pqdm(audios,google,n_jobs=4)"
   ]
  },
  {
   "cell_type": "code",
   "execution_count": 7,
   "metadata": {},
   "outputs": [
    {
     "data": {
      "text/plain": [
       "(0.15330368944496492, 0.054922303921270864)"
      ]
     },
     "execution_count": 7,
     "metadata": {},
     "output_type": "execute_result"
    }
   ],
   "source": [
    "g_d_wer = [compute_measures(i,j)[\"wer\"] for i,j in zip(with_digit_text,g_texts)]\n",
    "g_d_cer = [compute_measures([ii for ii in i],[jj for jj in j])[\"wer\"] for i,j in zip(with_digit_text,g_texts)]\n",
    "np.mean(g_d_wer),np.mean(g_d_cer) # with digit"
   ]
  },
  {
   "cell_type": "code",
   "execution_count": 8,
   "metadata": {},
   "outputs": [
    {
     "data": {
      "text/plain": [
       "(0.1611180648863363, 0.06063404045488549)"
      ]
     },
     "execution_count": 8,
     "metadata": {},
     "output_type": "execute_result"
    }
   ],
   "source": [
    "g_n_wer = [compute_measures(i,j)[\"wer\"] for i,j in zip(no_digit_text,g_texts)]\n",
    "g_n_cer = [compute_measures([ii for ii in i],[jj for jj in j])[\"wer\"] for i,j in zip(no_digit_text,g_texts)]\n",
    "np.mean(g_n_wer),np.mean(g_n_cer) # no digit"
   ]
  },
  {
   "cell_type": "code",
   "execution_count": 9,
   "metadata": {},
   "outputs": [
    {
     "name": "stdout",
     "output_type": "stream",
     "text": [
      "saved to: /root/.sk/models/conformer_small.onnx\n",
      "loading model\n",
      "loading language model\n",
      "Total input path: 1\n",
      "Total audio found(.wav): 1\n",
      "start prediction\n"
     ]
    },
    {
     "name": "stderr",
     "output_type": "stream",
     "text": [
      "100%|██████████| 1/1 [00:00<00:00, 19.84it/s]\n"
     ]
    }
   ],
   "source": [
    "# warm up\n",
    "predict(audios[0],decoder=\"/content/out.trie.klm\");"
   ]
  },
  {
   "cell_type": "code",
   "execution_count": 10,
   "metadata": {},
   "outputs": [
    {
     "name": "stdout",
     "output_type": "stream",
     "text": [
      "loading language model\n",
      "Total input path: 780\n",
      "Total audio found(.wav): 780\n",
      "start prediction\n"
     ]
    },
    {
     "name": "stderr",
     "output_type": "stream",
     "text": [
      "100%|██████████| 780/780 [00:59<00:00, 13.16it/s]"
     ]
    },
    {
     "name": "stdout",
     "output_type": "stream",
     "text": [
      "CPU times: user 3min 51s, sys: 112 ms, total: 3min 51s\n",
      "Wall time: 59.3 s\n"
     ]
    },
    {
     "name": "stderr",
     "output_type": "stream",
     "text": [
      "\n"
     ]
    }
   ],
   "source": [
    "%%time\n",
    "texts = predict(audios,decoder=\"/content/out.trie.klm\")[\"texts\"]"
   ]
  },
  {
   "cell_type": "code",
   "execution_count": 11,
   "metadata": {},
   "outputs": [
    {
     "data": {
      "text/plain": [
       "(0.13969373962274065, 0.03908335854120645)"
      ]
     },
     "execution_count": 11,
     "metadata": {},
     "output_type": "execute_result"
    }
   ],
   "source": [
    "from words2num import normalize\n",
    "n_texts = [normalize(i) for i in texts]\n",
    "# with digit\n",
    "sk_d_wer = [compute_measures(i,j)[\"wer\"] for i,j in zip(with_digit_text,n_texts)]\n",
    "sk_d_cer = [compute_measures([ii for ii in i],[jj for jj in j])[\"wer\"] for i,j in zip(with_digit_text,n_texts)]\n",
    "np.mean(sk_d_wer),np.mean(sk_d_cer) "
   ]
  },
  {
   "cell_type": "code",
   "execution_count": 12,
   "metadata": {},
   "outputs": [
    {
     "data": {
      "text/plain": [
       "(0.13508409027804705, 0.036035160999825004)"
      ]
     },
     "execution_count": 12,
     "metadata": {},
     "output_type": "execute_result"
    }
   ],
   "source": [
    "# no digit\n",
    "sk_n_wer = [compute_measures(i,j)[\"wer\"] for i,j in zip(no_digit_text,texts)]\n",
    "sk_n_cer = [compute_measures([ii for ii in i],[jj for jj in j])[\"wer\"] for i,j in zip(no_digit_text,texts)]\n",
    "np.mean(sk_n_wer),np.mean(sk_n_cer)"
   ]
  },
  {
   "cell_type": "code",
   "execution_count": 13,
   "metadata": {
    "scrolled": false
   },
   "outputs": [
    {
     "data": {
      "text/html": [
       "<div>\n",
       "<style scoped>\n",
       "    .dataframe tbody tr th:only-of-type {\n",
       "        vertical-align: middle;\n",
       "    }\n",
       "\n",
       "    .dataframe tbody tr th {\n",
       "        vertical-align: top;\n",
       "    }\n",
       "\n",
       "    .dataframe thead th {\n",
       "        text-align: right;\n",
       "    }\n",
       "</style>\n",
       "<table border=\"1\" class=\"dataframe\">\n",
       "  <thead>\n",
       "    <tr style=\"text-align: right;\">\n",
       "      <th></th>\n",
       "      <th>path</th>\n",
       "      <th>no_digit_label</th>\n",
       "      <th>our</th>\n",
       "      <th>our_with_digit</th>\n",
       "      <th>with_digit_label</th>\n",
       "      <th>google</th>\n",
       "    </tr>\n",
       "  </thead>\n",
       "  <tbody>\n",
       "    <tr>\n",
       "      <th>0</th>\n",
       "      <td>/content/test-bahasa/-home-husein-speech-bahasa-sebut-perkataan-woman-boleh berubah.wav</td>\n",
       "      <td>sebut perkataan boleh berubah</td>\n",
       "      <td>sebut perkataan boleh berubah</td>\n",
       "      <td>sebut perkataan boleh berubah</td>\n",
       "      <td>sebut perkataan boleh berubah</td>\n",
       "      <td>sebut perkataan boleh berubah</td>\n",
       "    </tr>\n",
       "    <tr>\n",
       "      <th>1</th>\n",
       "      <td>/content/test-bahasa/-home-husein-speech-bahasa-news-audio-910.wav</td>\n",
       "      <td>kerajaan negeri yang ditetapkan sultan johor untuk melantik menteri besar yang</td>\n",
       "      <td>kerajaan negeri yang ditetapkan sultan johor untuk melantik menteri besar yang</td>\n",
       "      <td>kerajaan negeri yang ditetapkan sultan johor untuk melantik menteri besar yang</td>\n",
       "      <td>kerajaan negeri yang ditetapkan sultan johor untuk melantik menteri besar yang</td>\n",
       "      <td>kerajaan negeri yang ditetapkan sultan johor untuk melantik menteri besar yang</td>\n",
       "    </tr>\n",
       "    <tr>\n",
       "      <th>2</th>\n",
       "      <td>/content/test-bahasa/-home-husein-speech-bahasa-haqkiem-LJ192-000005.wav</td>\n",
       "      <td>apa yang salah dengan mengatakan daging babi bagus di islam</td>\n",
       "      <td>apa yang salah dengan mengatakan daging babi bagus di islam</td>\n",
       "      <td>apa yang salah dengan mengatakan daging babi bagus di islam</td>\n",
       "      <td>apa yang salah dengan mengatakan daging babi bagus di islam</td>\n",
       "      <td>apa yang salah dengan mengatakan daging babi bagus di islam</td>\n",
       "    </tr>\n",
       "    <tr>\n",
       "      <th>3</th>\n",
       "      <td>/content/test-bahasa/-home-husein-speech-bahasa-streaming-kini didominasi ahli upm.wav</td>\n",
       "      <td>kini didominasi ahli upm</td>\n",
       "      <td>kini didominasi ahli upm</td>\n",
       "      <td>kini didominasi ahli upm</td>\n",
       "      <td>kini didominasi ahli upm</td>\n",
       "      <td>kini didominasi ahli upm</td>\n",
       "    </tr>\n",
       "    <tr>\n",
       "      <th>4</th>\n",
       "      <td>/content/test-bahasa/wattpad-audio-wattpad-541.wav</td>\n",
       "      <td>ini mau ganti baju abangku sayang</td>\n",
       "      <td>ini mahu ganti baju abangku sayang</td>\n",
       "      <td>ini mahu ganti baju abangku sayang</td>\n",
       "      <td>ini mau ganti baju abangku sayang</td>\n",
       "      <td>ini mau ganti baju abangku sayang</td>\n",
       "    </tr>\n",
       "  </tbody>\n",
       "</table>\n",
       "</div>"
      ],
      "text/plain": [
       "                                                                                      path  ...                                                                          google\n",
       "0  /content/test-bahasa/-home-husein-speech-bahasa-sebut-perkataan-woman-boleh berubah.wav  ...                                                   sebut perkataan boleh berubah\n",
       "1                       /content/test-bahasa/-home-husein-speech-bahasa-news-audio-910.wav  ...  kerajaan negeri yang ditetapkan sultan johor untuk melantik menteri besar yang\n",
       "2                 /content/test-bahasa/-home-husein-speech-bahasa-haqkiem-LJ192-000005.wav  ...                     apa yang salah dengan mengatakan daging babi bagus di islam\n",
       "3   /content/test-bahasa/-home-husein-speech-bahasa-streaming-kini didominasi ahli upm.wav  ...                                                        kini didominasi ahli upm\n",
       "4                                       /content/test-bahasa/wattpad-audio-wattpad-541.wav  ...                                               ini mau ganti baju abangku sayang\n",
       "\n",
       "[5 rows x 6 columns]"
      ]
     },
     "execution_count": 13,
     "metadata": {},
     "output_type": "execute_result"
    }
   ],
   "source": [
    "import pandas as pd\n",
    "pd.set_option('max_colwidth', 400)\n",
    "df = pd.DataFrame(zip(*[audios,no_digit_text,texts,n_texts,with_digit_text,g_texts]))\n",
    "df.columns = [\"path\",\"no_digit_label\",\"our\",\"our_with_digit\",\"with_digit_label\",\"google\"]\n",
    "df.head()"
   ]
  },
  {
   "cell_type": "code",
   "execution_count": 14,
   "metadata": {},
   "outputs": [],
   "source": [
    "def hasNumbers(inputString):\n",
    "    return any(char.isdigit() for char in inputString)"
   ]
  },
  {
   "cell_type": "code",
   "execution_count": 15,
   "metadata": {},
   "outputs": [
    {
     "data": {
      "text/html": [
       "<div>\n",
       "<style scoped>\n",
       "    .dataframe tbody tr th:only-of-type {\n",
       "        vertical-align: middle;\n",
       "    }\n",
       "\n",
       "    .dataframe tbody tr th {\n",
       "        vertical-align: top;\n",
       "    }\n",
       "\n",
       "    .dataframe thead th {\n",
       "        text-align: right;\n",
       "    }\n",
       "</style>\n",
       "<table border=\"1\" class=\"dataframe\">\n",
       "  <thead>\n",
       "    <tr style=\"text-align: right;\">\n",
       "      <th></th>\n",
       "      <th>path</th>\n",
       "      <th>no_digit_label</th>\n",
       "      <th>our</th>\n",
       "      <th>our_with_digit</th>\n",
       "      <th>with_digit_label</th>\n",
       "      <th>google</th>\n",
       "    </tr>\n",
       "  </thead>\n",
       "  <tbody>\n",
       "    <tr>\n",
       "      <th>6</th>\n",
       "      <td>/content/test-bahasa/-home-husein-speech-bahasa-news-audio-2188.wav</td>\n",
       "      <td>empat puluh lima ahli belia yang dilantik itu menjadi penyambung legasi</td>\n",
       "      <td>empat puluh lima ahli belia yang dilantik itu menjadi penyambung legasi</td>\n",
       "      <td>45 ahli belia yang dilantik itu menjadi penyambung legasi</td>\n",
       "      <td>45 ahli belia yang dilantik itu menjadi penyambung legasi</td>\n",
       "      <td>45 ahli belia yang dilantik itu menjadi penyambung legasi</td>\n",
       "    </tr>\n",
       "    <tr>\n",
       "      <th>18</th>\n",
       "      <td>/content/test-bahasa/-home-husein-speech-bahasa-news-audio-897.wav</td>\n",
       "      <td>phuket kochi dari rm tiga ratus sembilan puluh sembilan bali dari rm enam ratus dua puluh sembilan nanjing dari rm lima ratus lapan puluh sembilan</td>\n",
       "      <td>buket koci dari rm tiga ratus sembila puluh sembilan bali dari rm enam ratus dua puluh sembilan nanjing dari rm lima ratus lapan puluh sembilan</td>\n",
       "      <td>buket koci dari rm 300 sembila 9 bali dari rm 629 nanjing dari rm 589</td>\n",
       "      <td>phuket kochi dari rm359 bali dari rm629 nanjing dari rm589</td>\n",
       "      <td>phuket kochi dari rm359 bali dari rm600 29 nanjing dari rm589</td>\n",
       "    </tr>\n",
       "    <tr>\n",
       "      <th>21</th>\n",
       "      <td>/content/test-bahasa/wattpad-audio-wattpad-96.wav</td>\n",
       "      <td>ketika mereka berada didepan ruang kelas dua belas ipa lima tatapan mereka langsung</td>\n",
       "      <td>ketika mereka berada di depan ruang kelas dua belas ip lima tetapan mereka langsung</td>\n",
       "      <td>ketika mereka berada di depan ruang kelas 12 ip 5 tetapan mereka langsung</td>\n",
       "      <td>ketika mereka berada didepan ruang kelas 12 ipa 5 tatapan mereka langsung</td>\n",
       "      <td>ketika mereka berada di depan ruang kelas 12 ipa 58 michael ang</td>\n",
       "    </tr>\n",
       "    <tr>\n",
       "      <th>28</th>\n",
       "      <td>/content/test-bahasa/wattpad-audio-wattpad-7.wav</td>\n",
       "      <td>bandung dua ribu tujuh belas</td>\n",
       "      <td>bandung dua ribu tujuh belas</td>\n",
       "      <td>bandung 2017</td>\n",
       "      <td>bandung 2017</td>\n",
       "      <td>bandung 2017</td>\n",
       "    </tr>\n",
       "    <tr>\n",
       "      <th>59</th>\n",
       "      <td>/content/test-bahasa/-home-husein-speech-bahasa-haqkiem-LJ198-000005.wav</td>\n",
       "      <td>adakah ia baik untuk seorang wanita berumur dua belas tahun</td>\n",
       "      <td>adakah ia baik untuk seorang wanita berumur dua belas tahun</td>\n",
       "      <td>adakah ia baik untuk seorang wanita berumur 12 tahun</td>\n",
       "      <td>adakah ia baik untuk seorang wanita berumur 12 tahun</td>\n",
       "      <td>adakah ia baik untuk seorang wanita berumur 12 tahun</td>\n",
       "    </tr>\n",
       "    <tr>\n",
       "      <th>78</th>\n",
       "      <td>/content/test-bahasa/iium-audio-iium-4.wav</td>\n",
       "      <td>menyesal tulis tajuk guna nombor roman kena google nak tengok bentuk nombor lapan macam mana</td>\n",
       "      <td>menyesal tulis tajuk guna nombor roman kerangugae nak tengok bentuk nombor lapan macam mana</td>\n",
       "      <td>menyesal tulis tajuk guna nombor roman kerangugae nak tengok bentuk nombor 8 macam mana</td>\n",
       "      <td>menyesal tulis tajuk guna nombor roman kena google nak tengok bentuk nombor 8 macam mana</td>\n",
       "      <td>menyesal tulis tajuk guna nombor roman ok google nak tengok bentuk nombor 8 macam mana</td>\n",
       "    </tr>\n",
       "    <tr>\n",
       "      <th>92</th>\n",
       "      <td>/content/test-bahasa/-home-husein-speech-bahasa-haqkiem-LJ259-000005.wav</td>\n",
       "      <td>bagaimana boleh lima belas juta penyamun hujat tidak menjadi bangsa atau agama</td>\n",
       "      <td>bagaimana boleh lima belas juta penyamun hujat tidak menjadi bangsa atau agama</td>\n",
       "      <td>bagaimana boleh 15000000 penyamun hujat tidak menjadi bangsa atau agama</td>\n",
       "      <td>bagaimana boleh 15 juta penyamun hujat tidak menjadi bangsa atau agama</td>\n",
       "      <td>bagaimana boleh 15 juta penyamun hujan tidak menjadi bangsa atau agama</td>\n",
       "    </tr>\n",
       "    <tr>\n",
       "      <th>97</th>\n",
       "      <td>/content/test-bahasa/wattpad-audio-wattpad-10.wav</td>\n",
       "      <td>ipa tiga arahnya tepat mengenai punggung salah satu siswi dikelas tersebut</td>\n",
       "      <td>ipa tiga arahnya tepat mengenai punggung salah satu siswi di kelas tersebut</td>\n",
       "      <td>ipa 3 arahnya tepat mengenai punggung salah 1 siswi di kelas tersebut</td>\n",
       "      <td>ipa 3 arahnya tepat mengenai punggung salah satu siswi dikelas tersebut</td>\n",
       "      <td>ip3 arahnya tepat mengenai punggung salah satu siswa di kelas tersebut</td>\n",
       "    </tr>\n",
       "    <tr>\n",
       "      <th>136</th>\n",
       "      <td>/content/test-bahasa/-home-husein-speech-bahasa-news-audio-394.wav</td>\n",
       "      <td>semenjak ianya ditubuhkan lebih dua puluh tahun yang lalu</td>\n",
       "      <td>semenjak ianya ditubuhkan lebih dua puluh tahun yang lalu</td>\n",
       "      <td>semenjak ianya ditubuhkan lebih 20 tahun yang lalu</td>\n",
       "      <td>semenjak ianya ditubuhkan lebih 20 tahun yang lalu</td>\n",
       "      <td>semenjak ianya ditubuhkan lebih 20 tahun yang lalu</td>\n",
       "    </tr>\n",
       "    <tr>\n",
       "      <th>140</th>\n",
       "      <td>/content/test-bahasa/iium-audio-iium-61.wav</td>\n",
       "      <td>aku ni seorang perempuan dan baru sembilan belas tahun</td>\n",
       "      <td>aku ni seorang perempuan dan baru sembian belas tahun</td>\n",
       "      <td>aku ni seorang perempuan dan baru sembian 10 tahun</td>\n",
       "      <td>aku ni seorang perempuan dan baru 19 tahun</td>\n",
       "      <td>aku ni seorang perempuan dan baru 15 tahun</td>\n",
       "    </tr>\n",
       "  </tbody>\n",
       "</table>\n",
       "</div>"
      ],
      "text/plain": [
       "                                                                         path  ...                                                                                  google\n",
       "6         /content/test-bahasa/-home-husein-speech-bahasa-news-audio-2188.wav  ...                               45 ahli belia yang dilantik itu menjadi penyambung legasi\n",
       "18         /content/test-bahasa/-home-husein-speech-bahasa-news-audio-897.wav  ...                           phuket kochi dari rm359 bali dari rm600 29 nanjing dari rm589\n",
       "21                          /content/test-bahasa/wattpad-audio-wattpad-96.wav  ...                         ketika mereka berada di depan ruang kelas 12 ipa 58 michael ang\n",
       "28                           /content/test-bahasa/wattpad-audio-wattpad-7.wav  ...                                                                            bandung 2017\n",
       "59   /content/test-bahasa/-home-husein-speech-bahasa-haqkiem-LJ198-000005.wav  ...                                    adakah ia baik untuk seorang wanita berumur 12 tahun\n",
       "78                                 /content/test-bahasa/iium-audio-iium-4.wav  ...  menyesal tulis tajuk guna nombor roman ok google nak tengok bentuk nombor 8 macam mana\n",
       "92   /content/test-bahasa/-home-husein-speech-bahasa-haqkiem-LJ259-000005.wav  ...                  bagaimana boleh 15 juta penyamun hujan tidak menjadi bangsa atau agama\n",
       "97                          /content/test-bahasa/wattpad-audio-wattpad-10.wav  ...                  ip3 arahnya tepat mengenai punggung salah satu siswa di kelas tersebut\n",
       "136        /content/test-bahasa/-home-husein-speech-bahasa-news-audio-394.wav  ...                                      semenjak ianya ditubuhkan lebih 20 tahun yang lalu\n",
       "140                               /content/test-bahasa/iium-audio-iium-61.wav  ...                                              aku ni seorang perempuan dan baru 15 tahun\n",
       "\n",
       "[10 rows x 6 columns]"
      ]
     },
     "execution_count": 15,
     "metadata": {},
     "output_type": "execute_result"
    }
   ],
   "source": [
    "df[df['with_digit_label'].apply(hasNumbers)].head(10)"
   ]
  },
  {
   "cell_type": "code",
   "execution_count": null,
   "metadata": {},
   "outputs": [],
   "source": []
  },
  {
   "cell_type": "markdown",
   "metadata": {},
   "source": [
    "# No digit dataset comparison"
   ]
  },
  {
   "cell_type": "code",
   "execution_count": 16,
   "metadata": {},
   "outputs": [
    {
     "data": {
      "text/html": [
       "<div>\n",
       "<style scoped>\n",
       "    .dataframe tbody tr th:only-of-type {\n",
       "        vertical-align: middle;\n",
       "    }\n",
       "\n",
       "    .dataframe tbody tr th {\n",
       "        vertical-align: top;\n",
       "    }\n",
       "\n",
       "    .dataframe thead th {\n",
       "        text-align: right;\n",
       "    }\n",
       "</style>\n",
       "<table border=\"1\" class=\"dataframe\">\n",
       "  <thead>\n",
       "    <tr style=\"text-align: right;\">\n",
       "      <th></th>\n",
       "      <th>path</th>\n",
       "      <th>no_digit_label</th>\n",
       "      <th>our</th>\n",
       "      <th>google</th>\n",
       "      <th>our_no_digit_cer</th>\n",
       "      <th>google_no_digit_cer</th>\n",
       "    </tr>\n",
       "  </thead>\n",
       "  <tbody>\n",
       "    <tr>\n",
       "      <th>524</th>\n",
       "      <td>/content/test-bahasa/wattpad-audio-wattpad-646.wav</td>\n",
       "      <td>who are you</td>\n",
       "      <td>ayu</td>\n",
       "      <td>how are you</td>\n",
       "      <td>0.666667</td>\n",
       "      <td>0.222222</td>\n",
       "    </tr>\n",
       "    <tr>\n",
       "      <th>189</th>\n",
       "      <td>/content/test-bahasa/-home-husein-speech-bahasa-streaming-iaitu paus odontoceti paus.wav</td>\n",
       "      <td>iaitu paus odontoceti paus</td>\n",
       "      <td>iaitu pawesordantercetipawes</td>\n",
       "      <td>iaitu power order cathy paus</td>\n",
       "      <td>0.347826</td>\n",
       "      <td>0.521739</td>\n",
       "    </tr>\n",
       "    <tr>\n",
       "      <th>500</th>\n",
       "      <td>/content/test-bahasa/-home-husein-speech-bahasa-haqkiem-LJ118-000005.wav</td>\n",
       "      <td>boleh fuckers quora sila tutup fuck tentang iq</td>\n",
       "      <td>boleh pakar sekolah sila tutup fak tentang itu</td>\n",
       "      <td>boleh fuckers kura sila tutup port tentang itu</td>\n",
       "      <td>0.307692</td>\n",
       "      <td>0.205128</td>\n",
       "    </tr>\n",
       "    <tr>\n",
       "      <th>267</th>\n",
       "      <td>/content/test-bahasa/-home-husein-speech-bahasa-sebut-perkataan-man-ampe.wav</td>\n",
       "      <td>sebut perkataan ampe</td>\n",
       "      <td>sebuk pakatan ampa</td>\n",
       "      <td>sebut perkataan apa</td>\n",
       "      <td>0.277778</td>\n",
       "      <td>0.111111</td>\n",
       "    </tr>\n",
       "    <tr>\n",
       "      <th>37</th>\n",
       "      <td>/content/test-bahasa/-home-husein-speech-bahasa-tolong-sebut-jarum.wav</td>\n",
       "      <td>tolong sebut jarum</td>\n",
       "      <td>tolosebutjarol</td>\n",
       "      <td>tolong sebut jarum</td>\n",
       "      <td>0.250000</td>\n",
       "      <td>0.000000</td>\n",
       "    </tr>\n",
       "  </tbody>\n",
       "</table>\n",
       "</div>"
      ],
      "text/plain": [
       "                                                                                         path                                  no_digit_label  ... our_no_digit_cer google_no_digit_cer\n",
       "524                                        /content/test-bahasa/wattpad-audio-wattpad-646.wav                                     who are you  ...         0.666667            0.222222\n",
       "189  /content/test-bahasa/-home-husein-speech-bahasa-streaming-iaitu paus odontoceti paus.wav                      iaitu paus odontoceti paus  ...         0.347826            0.521739\n",
       "500                  /content/test-bahasa/-home-husein-speech-bahasa-haqkiem-LJ118-000005.wav  boleh fuckers quora sila tutup fuck tentang iq  ...         0.307692            0.205128\n",
       "267              /content/test-bahasa/-home-husein-speech-bahasa-sebut-perkataan-man-ampe.wav                            sebut perkataan ampe  ...         0.277778            0.111111\n",
       "37                     /content/test-bahasa/-home-husein-speech-bahasa-tolong-sebut-jarum.wav                              tolong sebut jarum  ...         0.250000            0.000000\n",
       "\n",
       "[5 rows x 6 columns]"
      ]
     },
     "execution_count": 16,
     "metadata": {},
     "output_type": "execute_result"
    }
   ],
   "source": [
    "df = pd.DataFrame(zip(*[audios,no_digit_text,texts,g_texts,sk_n_cer,g_n_cer]))\n",
    "df.columns = [\"path\",\"no_digit_label\",\"our\",\"google\",\"our_no_digit_cer\",\"google_no_digit_cer\"]\n",
    "df = df.sort_values(\"our_no_digit_cer\",ascending=False)\n",
    "df.head()"
   ]
  },
  {
   "cell_type": "markdown",
   "metadata": {},
   "source": [
    "our model not that good with english word because it not in the training set we use for community model"
   ]
  },
  {
   "cell_type": "code",
   "execution_count": 17,
   "metadata": {},
   "outputs": [
    {
     "data": {
      "text/html": [
       "<div>\n",
       "<style scoped>\n",
       "    .dataframe tbody tr th:only-of-type {\n",
       "        vertical-align: middle;\n",
       "    }\n",
       "\n",
       "    .dataframe tbody tr th {\n",
       "        vertical-align: top;\n",
       "    }\n",
       "\n",
       "    .dataframe thead th {\n",
       "        text-align: right;\n",
       "    }\n",
       "</style>\n",
       "<table border=\"1\" class=\"dataframe\">\n",
       "  <thead>\n",
       "    <tr style=\"text-align: right;\">\n",
       "      <th></th>\n",
       "      <th>path</th>\n",
       "      <th>no_digit_label</th>\n",
       "      <th>our</th>\n",
       "      <th>google</th>\n",
       "      <th>our_no_digit_cer</th>\n",
       "      <th>google_no_digit_cer</th>\n",
       "    </tr>\n",
       "  </thead>\n",
       "  <tbody>\n",
       "    <tr>\n",
       "      <th>28</th>\n",
       "      <td>/content/test-bahasa/wattpad-audio-wattpad-7.wav</td>\n",
       "      <td>bandung dua ribu tujuh belas</td>\n",
       "      <td>bandung dua ribu tujuh belas</td>\n",
       "      <td>bandung 2017</td>\n",
       "      <td>0.000000</td>\n",
       "      <td>0.708333</td>\n",
       "    </tr>\n",
       "    <tr>\n",
       "      <th>633</th>\n",
       "      <td>/content/test-bahasa/-home-husein-speech-bahasa-news-audio-1757.wav</td>\n",
       "      <td>dua puluh enam empat</td>\n",
       "      <td>dua puluh enam empat</td>\n",
       "      <td>26 empat</td>\n",
       "      <td>0.000000</td>\n",
       "      <td>0.705882</td>\n",
       "    </tr>\n",
       "    <tr>\n",
       "      <th>18</th>\n",
       "      <td>/content/test-bahasa/-home-husein-speech-bahasa-news-audio-897.wav</td>\n",
       "      <td>phuket kochi dari rm tiga ratus sembilan puluh sembilan bali dari rm enam ratus dua puluh sembilan nanjing dari rm lima ratus lapan puluh sembilan</td>\n",
       "      <td>buket koci dari rm tiga ratus sembila puluh sembilan bali dari rm enam ratus dua puluh sembilan nanjing dari rm lima ratus lapan puluh sembilan</td>\n",
       "      <td>phuket kochi dari rm359 bali dari rm600 29 nanjing dari rm589</td>\n",
       "      <td>0.032787</td>\n",
       "      <td>0.672131</td>\n",
       "    </tr>\n",
       "    <tr>\n",
       "      <th>401</th>\n",
       "      <td>/content/test-bahasa/wattpad-audio-wattpad-544.wav</td>\n",
       "      <td>libras pov</td>\n",
       "      <td>liberas pov</td>\n",
       "      <td>libras theory</td>\n",
       "      <td>0.111111</td>\n",
       "      <td>0.555556</td>\n",
       "    </tr>\n",
       "    <tr>\n",
       "      <th>161</th>\n",
       "      <td>/content/test-bahasa/-home-husein-speech-bahasa-sebut-perkataan-man-agihnya.wav</td>\n",
       "      <td>sebut perkataan agihnya</td>\n",
       "      <td>sebut perkataan agihnya</td>\n",
       "      <td>kata anaknya</td>\n",
       "      <td>0.000000</td>\n",
       "      <td>0.523810</td>\n",
       "    </tr>\n",
       "  </tbody>\n",
       "</table>\n",
       "</div>"
      ],
      "text/plain": [
       "                                                                                path  ... google_no_digit_cer\n",
       "28                                  /content/test-bahasa/wattpad-audio-wattpad-7.wav  ...            0.708333\n",
       "633              /content/test-bahasa/-home-husein-speech-bahasa-news-audio-1757.wav  ...            0.705882\n",
       "18                /content/test-bahasa/-home-husein-speech-bahasa-news-audio-897.wav  ...            0.672131\n",
       "401                               /content/test-bahasa/wattpad-audio-wattpad-544.wav  ...            0.555556\n",
       "161  /content/test-bahasa/-home-husein-speech-bahasa-sebut-perkataan-man-agihnya.wav  ...            0.523810\n",
       "\n",
       "[5 rows x 6 columns]"
      ]
     },
     "execution_count": 17,
     "metadata": {},
     "output_type": "execute_result"
    }
   ],
   "source": [
    "df = df.sort_values(\"google_no_digit_cer\",ascending=False)\n",
    "df.head()"
   ]
  },
  {
   "cell_type": "markdown",
   "metadata": {},
   "source": [
    "most of the time google cer not good because it trying to predict digit for non digit dataset,that's why we provide separate dataset for fair comparison\n",
    "\n"
   ]
  },
  {
   "cell_type": "code",
   "execution_count": null,
   "metadata": {},
   "outputs": [],
   "source": []
  },
  {
   "cell_type": "markdown",
   "metadata": {},
   "source": [
    "# Digit dataset comparison"
   ]
  },
  {
   "cell_type": "code",
   "execution_count": 18,
   "metadata": {},
   "outputs": [
    {
     "data": {
      "text/html": [
       "<div>\n",
       "<style scoped>\n",
       "    .dataframe tbody tr th:only-of-type {\n",
       "        vertical-align: middle;\n",
       "    }\n",
       "\n",
       "    .dataframe tbody tr th {\n",
       "        vertical-align: top;\n",
       "    }\n",
       "\n",
       "    .dataframe thead th {\n",
       "        text-align: right;\n",
       "    }\n",
       "</style>\n",
       "<table border=\"1\" class=\"dataframe\">\n",
       "  <thead>\n",
       "    <tr style=\"text-align: right;\">\n",
       "      <th></th>\n",
       "      <th>path</th>\n",
       "      <th>digit_label</th>\n",
       "      <th>our</th>\n",
       "      <th>google</th>\n",
       "      <th>our_digit_cer</th>\n",
       "      <th>google_digit_cer</th>\n",
       "    </tr>\n",
       "  </thead>\n",
       "  <tbody>\n",
       "    <tr>\n",
       "      <th>524</th>\n",
       "      <td>/content/test-bahasa/wattpad-audio-wattpad-646.wav</td>\n",
       "      <td>who are you</td>\n",
       "      <td>ayu</td>\n",
       "      <td>how are you</td>\n",
       "      <td>0.666667</td>\n",
       "      <td>0.222222</td>\n",
       "    </tr>\n",
       "    <tr>\n",
       "      <th>704</th>\n",
       "      <td>/content/test-bahasa/-home-husein-speech-bahasa-streaming-sementara empat ion bergabung.wav</td>\n",
       "      <td>sementara empat ion bergabung</td>\n",
       "      <td>sementara 4 ion penggabuh</td>\n",
       "      <td>sementara empat aeon bergabung</td>\n",
       "      <td>0.384615</td>\n",
       "      <td>0.076923</td>\n",
       "    </tr>\n",
       "    <tr>\n",
       "      <th>189</th>\n",
       "      <td>/content/test-bahasa/-home-husein-speech-bahasa-streaming-iaitu paus odontoceti paus.wav</td>\n",
       "      <td>iaitu paus odontoceti paus</td>\n",
       "      <td>iaitu pawesordantercetipawes</td>\n",
       "      <td>iaitu power order cathy paus</td>\n",
       "      <td>0.347826</td>\n",
       "      <td>0.521739</td>\n",
       "    </tr>\n",
       "    <tr>\n",
       "      <th>89</th>\n",
       "      <td>/content/test-bahasa/-home-husein-speech-bahasa-streaming-sepanyol juta pada tahun.wav</td>\n",
       "      <td>sepanyol juta pada tahun</td>\n",
       "      <td>sepanyol 1000000 pada tahun</td>\n",
       "      <td>sepanyol juta pada tahun</td>\n",
       "      <td>0.333333</td>\n",
       "      <td>0.000000</td>\n",
       "    </tr>\n",
       "    <tr>\n",
       "      <th>500</th>\n",
       "      <td>/content/test-bahasa/-home-husein-speech-bahasa-haqkiem-LJ118-000005.wav</td>\n",
       "      <td>boleh fuckers quora sila tutup fuck tentang iq</td>\n",
       "      <td>boleh pakar sekolah sila tutup fak tentang itu</td>\n",
       "      <td>boleh fuckers kura sila tutup port tentang itu</td>\n",
       "      <td>0.307692</td>\n",
       "      <td>0.205128</td>\n",
       "    </tr>\n",
       "  </tbody>\n",
       "</table>\n",
       "</div>"
      ],
      "text/plain": [
       "                                                                                            path                                     digit_label  ... our_digit_cer google_digit_cer\n",
       "524                                           /content/test-bahasa/wattpad-audio-wattpad-646.wav                                     who are you  ...      0.666667         0.222222\n",
       "704  /content/test-bahasa/-home-husein-speech-bahasa-streaming-sementara empat ion bergabung.wav                   sementara empat ion bergabung  ...      0.384615         0.076923\n",
       "189     /content/test-bahasa/-home-husein-speech-bahasa-streaming-iaitu paus odontoceti paus.wav                      iaitu paus odontoceti paus  ...      0.347826         0.521739\n",
       "89        /content/test-bahasa/-home-husein-speech-bahasa-streaming-sepanyol juta pada tahun.wav                        sepanyol juta pada tahun  ...      0.333333         0.000000\n",
       "500                     /content/test-bahasa/-home-husein-speech-bahasa-haqkiem-LJ118-000005.wav  boleh fuckers quora sila tutup fuck tentang iq  ...      0.307692         0.205128\n",
       "\n",
       "[5 rows x 6 columns]"
      ]
     },
     "execution_count": 18,
     "metadata": {},
     "output_type": "execute_result"
    }
   ],
   "source": [
    "df = pd.DataFrame(zip(*[audios,with_digit_text,n_texts,g_texts,sk_d_cer,g_d_cer]))\n",
    "df.columns = [\"path\",\"digit_label\",\"our\",\"google\",\"our_digit_cer\",\"google_digit_cer\"]\n",
    "df = df.sort_values(\"our_digit_cer\",ascending=False)\n",
    "df.head()"
   ]
  },
  {
   "cell_type": "markdown",
   "metadata": {},
   "source": [
    "- it seems that in written form even though it is a number if not more than 9 should not convert to digit\n",
    "- for juta(million) should not convert to digit too I guess(need to fix my normalization rule)"
   ]
  },
  {
   "cell_type": "markdown",
   "metadata": {},
   "source": [
    "let see what kind of error for google"
   ]
  },
  {
   "cell_type": "code",
   "execution_count": 19,
   "metadata": {},
   "outputs": [
    {
     "data": {
      "text/html": [
       "<div>\n",
       "<style scoped>\n",
       "    .dataframe tbody tr th:only-of-type {\n",
       "        vertical-align: middle;\n",
       "    }\n",
       "\n",
       "    .dataframe tbody tr th {\n",
       "        vertical-align: top;\n",
       "    }\n",
       "\n",
       "    .dataframe thead th {\n",
       "        text-align: right;\n",
       "    }\n",
       "</style>\n",
       "<table border=\"1\" class=\"dataframe\">\n",
       "  <thead>\n",
       "    <tr style=\"text-align: right;\">\n",
       "      <th></th>\n",
       "      <th>path</th>\n",
       "      <th>digit_label</th>\n",
       "      <th>our</th>\n",
       "      <th>google</th>\n",
       "      <th>our_digit_cer</th>\n",
       "      <th>google_digit_cer</th>\n",
       "    </tr>\n",
       "  </thead>\n",
       "  <tbody>\n",
       "    <tr>\n",
       "      <th>633</th>\n",
       "      <td>/content/test-bahasa/-home-husein-speech-bahasa-news-audio-1757.wav</td>\n",
       "      <td>26 4</td>\n",
       "      <td>26 4</td>\n",
       "      <td>26 empat</td>\n",
       "      <td>0.000000</td>\n",
       "      <td>1.666667</td>\n",
       "    </tr>\n",
       "    <tr>\n",
       "      <th>401</th>\n",
       "      <td>/content/test-bahasa/wattpad-audio-wattpad-544.wav</td>\n",
       "      <td>libras pov</td>\n",
       "      <td>liberas pov</td>\n",
       "      <td>libras theory</td>\n",
       "      <td>0.111111</td>\n",
       "      <td>0.555556</td>\n",
       "    </tr>\n",
       "    <tr>\n",
       "      <th>161</th>\n",
       "      <td>/content/test-bahasa/-home-husein-speech-bahasa-sebut-perkataan-man-agihnya.wav</td>\n",
       "      <td>sebut perkataan agihnya</td>\n",
       "      <td>sebut perkataan agihnya</td>\n",
       "      <td>kata anaknya</td>\n",
       "      <td>0.000000</td>\n",
       "      <td>0.523810</td>\n",
       "    </tr>\n",
       "    <tr>\n",
       "      <th>189</th>\n",
       "      <td>/content/test-bahasa/-home-husein-speech-bahasa-streaming-iaitu paus odontoceti paus.wav</td>\n",
       "      <td>iaitu paus odontoceti paus</td>\n",
       "      <td>iaitu pawesordantercetipawes</td>\n",
       "      <td>iaitu power order cathy paus</td>\n",
       "      <td>0.347826</td>\n",
       "      <td>0.521739</td>\n",
       "    </tr>\n",
       "    <tr>\n",
       "      <th>10</th>\n",
       "      <td>/content/test-bahasa/-home-husein-speech-bahasa-sebut-perkataan-man-ajal.wav</td>\n",
       "      <td>sebut perkataan ajal</td>\n",
       "      <td>sebut perkataan ajar</td>\n",
       "      <td>sebutkan saja</td>\n",
       "      <td>0.055556</td>\n",
       "      <td>0.444444</td>\n",
       "    </tr>\n",
       "  </tbody>\n",
       "</table>\n",
       "</div>"
      ],
      "text/plain": [
       "                                                                                         path                 digit_label                           our                        google  our_digit_cer  google_digit_cer\n",
       "633                       /content/test-bahasa/-home-husein-speech-bahasa-news-audio-1757.wav                        26 4                          26 4                      26 empat       0.000000          1.666667\n",
       "401                                        /content/test-bahasa/wattpad-audio-wattpad-544.wav                  libras pov                   liberas pov                 libras theory       0.111111          0.555556\n",
       "161           /content/test-bahasa/-home-husein-speech-bahasa-sebut-perkataan-man-agihnya.wav     sebut perkataan agihnya       sebut perkataan agihnya                  kata anaknya       0.000000          0.523810\n",
       "189  /content/test-bahasa/-home-husein-speech-bahasa-streaming-iaitu paus odontoceti paus.wav  iaitu paus odontoceti paus  iaitu pawesordantercetipawes  iaitu power order cathy paus       0.347826          0.521739\n",
       "10               /content/test-bahasa/-home-husein-speech-bahasa-sebut-perkataan-man-ajal.wav        sebut perkataan ajal          sebut perkataan ajar                 sebutkan saja       0.055556          0.444444"
      ]
     },
     "execution_count": 19,
     "metadata": {},
     "output_type": "execute_result"
    }
   ],
   "source": [
    "df = df.sort_values(\"google_digit_cer\",ascending=False)\n",
    "df.head()"
   ]
  },
  {
   "cell_type": "markdown",
   "metadata": {},
   "source": [
    "- no comment except that google wrongly predict the text"
   ]
  },
  {
   "cell_type": "code",
   "execution_count": null,
   "metadata": {},
   "outputs": [],
   "source": []
  },
  {
   "cell_type": "markdown",
   "metadata": {},
   "source": [
    "# Disclaimer"
   ]
  },
  {
   "cell_type": "markdown",
   "metadata": {},
   "source": [
    "- This benchmark only on Google Speech To Text that is free, the paid version might be better than this\n",
    "- The performance might varies if we test with different test set and domain(TODO)"
   ]
  },
  {
   "cell_type": "code",
   "execution_count": null,
   "metadata": {},
   "outputs": [],
   "source": []
  }
 ],
 "metadata": {
  "kernelspec": {
   "display_name": "Python 3",
   "language": "python",
   "name": "python3"
  },
  "language_info": {
   "codemirror_mode": {
    "name": "ipython",
    "version": 3
   },
   "file_extension": ".py",
   "mimetype": "text/x-python",
   "name": "python",
   "nbconvert_exporter": "python",
   "pygments_lexer": "ipython3",
   "version": "3.7.11"
  }
 },
 "nbformat": 4,
 "nbformat_minor": 2
}
