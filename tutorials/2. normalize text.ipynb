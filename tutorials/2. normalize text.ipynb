{
 "cells": [
  {
   "cell_type": "code",
   "execution_count": 1,
   "metadata": {},
   "outputs": [],
   "source": [
    "!pip install jiwer -qq"
   ]
  },
  {
   "cell_type": "code",
   "execution_count": 2,
   "metadata": {},
   "outputs": [],
   "source": [
    "%load_ext autoreload\n",
    "%autoreload 2"
   ]
  },
  {
   "cell_type": "code",
   "execution_count": 3,
   "metadata": {},
   "outputs": [],
   "source": [
    "import sys\n",
    "sys.path.append('..')"
   ]
  },
  {
   "cell_type": "code",
   "execution_count": 4,
   "metadata": {},
   "outputs": [],
   "source": [
    "from predict import predict\n",
    "import onnxruntime\n",
    "import onnx\n",
    "from pathlib import Path\n",
    "import jiwer\n",
    "import pandas as pd\n",
    "from utils import get_files\n",
    "from pdb import set_trace\n",
    "from words2num import normalize\n",
    "pd.set_option('max_colwidth', 400)"
   ]
  },
  {
   "cell_type": "code",
   "execution_count": 5,
   "metadata": {},
   "outputs": [],
   "source": [
    "model = onnx.load(\"/content/output.onnx\")\n",
    "model = onnxruntime.InferenceSession(model.SerializeToString())"
   ]
  },
  {
   "cell_type": "code",
   "execution_count": 6,
   "metadata": {},
   "outputs": [],
   "source": [
    "data_path = \"/content/test-bahasa/\""
   ]
  },
  {
   "cell_type": "code",
   "execution_count": 7,
   "metadata": {},
   "outputs": [
    {
     "data": {
      "text/plain": [
       "(#780) [PosixPath('/content/test-bahasa/-home-husein-speech-bahasa-haqkiem-LJ118-000005.txt'),PosixPath('/content/test-bahasa/iium-audio-iium-21.txt'),PosixPath('/content/test-bahasa/-home-husein-speech-bahasa-streaming-oleh huruf iaitu dan.txt'),PosixPath('/content/test-bahasa/-home-husein-speech-bahasa-streaming-bagaimanapun istilah melayu adalah.txt'),PosixPath('/content/test-bahasa/-home-husein-speech-bahasa-haqkiem-LJ094-000005.txt'),PosixPath('/content/test-bahasa/-home-husein-speech-bahasa-haqkiem-LJ223-000005.txt'),PosixPath('/content/test-bahasa/-home-husein-speech-bahasa-streaming-pertama acara a reveal.txt'),PosixPath('/content/test-bahasa/wattpad-audio-wattpad-43.txt'),PosixPath('/content/test-bahasa/-home-husein-speech-bahasa-tolong-sebut-tidak sopan.txt'),PosixPath('/content/test-bahasa/-home-husein-speech-bahasa-haqkiem-LJ137-000005.txt')...]"
      ]
     },
     "execution_count": 7,
     "metadata": {},
     "output_type": "execute_result"
    }
   ],
   "source": [
    "txts = get_files(data_path,[\".txt\"],recurse=True)\n",
    "txts"
   ]
  },
  {
   "cell_type": "code",
   "execution_count": 8,
   "metadata": {},
   "outputs": [],
   "source": [
    "# find data with number in it\n",
    "nombor = [\"satu\",\"dua\",'tiga','puluh','ratus','ribu']\n",
    "filtered_wavs = []\n",
    "for i in txts:\n",
    "    text = i.read_text().split()\n",
    "    got = any([i in nombor for i in text])\n",
    "    if got:\n",
    "        filtered_wavs.append(i.with_suffix(\".wav\"))"
   ]
  },
  {
   "cell_type": "markdown",
   "metadata": {},
   "source": [
    "# Predict single or multiple file"
   ]
  },
  {
   "cell_type": "code",
   "execution_count": 9,
   "metadata": {},
   "outputs": [
    {
     "name": "stderr",
     "output_type": "stream",
     "text": [
      "100%|██████████| 37/37 [00:15<00:00,  2.43it/s]\n"
     ]
    }
   ],
   "source": [
    "preds,files,entropy = predict(model,filtered_wavs)"
   ]
  },
  {
   "cell_type": "code",
   "execution_count": 10,
   "metadata": {},
   "outputs": [],
   "source": [
    "data = []\n",
    "for i,j in zip(preds,files):\n",
    "    label = j.with_suffix('.txt').read_text()\n",
    "    data.append([label,i,normalize(i)])"
   ]
  },
  {
   "cell_type": "code",
   "execution_count": 11,
   "metadata": {},
   "outputs": [
    {
     "data": {
      "text/html": [
       "<div>\n",
       "<style scoped>\n",
       "    .dataframe tbody tr th:only-of-type {\n",
       "        vertical-align: middle;\n",
       "    }\n",
       "\n",
       "    .dataframe tbody tr th {\n",
       "        vertical-align: top;\n",
       "    }\n",
       "\n",
       "    .dataframe thead th {\n",
       "        text-align: right;\n",
       "    }\n",
       "</style>\n",
       "<table border=\"1\" class=\"dataframe\">\n",
       "  <thead>\n",
       "    <tr style=\"text-align: right;\">\n",
       "      <th></th>\n",
       "      <th>label</th>\n",
       "      <th>pred</th>\n",
       "      <th>norm_pred</th>\n",
       "    </tr>\n",
       "  </thead>\n",
       "  <tbody>\n",
       "    <tr>\n",
       "      <th>0</th>\n",
       "      <td>gila cape banget kecepatan lari kamu kalau lagi panik nambah dua kali</td>\n",
       "      <td>kilah capit bangyit kecapatan lari kamu kalau lagi panik enambah dua kali</td>\n",
       "      <td>kilah capit bangyit kecapatan lari kamu kalau lagi panik enambah 2 kali</td>\n",
       "    </tr>\n",
       "    <tr>\n",
       "      <th>1</th>\n",
       "      <td>pengalaman aku aku satu geng nak makan tengahari beli makanan aku ambik lauk telur jela nak jimat kawan aku ini ambik lauk ayam</td>\n",
       "      <td>pengalaman aku aku satu geng nak makan tengah hari boleh makanan aku ambil laut telur jelar</td>\n",
       "      <td>pengalaman aku aku 1 geng nak makan tengah hari boleh makanan aku ambil laut telur jelar</td>\n",
       "    </tr>\n",
       "    <tr>\n",
       "      <th>2</th>\n",
       "      <td>aku ada dua orang sahabat baik</td>\n",
       "      <td>aku ada dua orang sahabat baik</td>\n",
       "      <td>aku ada 2 orang sahabat baik</td>\n",
       "    </tr>\n",
       "    <tr>\n",
       "      <th>3</th>\n",
       "      <td>kelihatan selepas tujuh puluh dua jam daripada aktiviti tersebut atau selepas</td>\n",
       "      <td>kelihatan selepas tujuh puluh dua jam daripada aktiviti tersebut atau selepas</td>\n",
       "      <td>kelihatan selepas 72 jam daripada aktiviti tersebut atau selepas</td>\n",
       "    </tr>\n",
       "    <tr>\n",
       "      <th>4</th>\n",
       "      <td>bandung dua ribu tujuh belas</td>\n",
       "      <td>bandung dua ribu tujuh belas</td>\n",
       "      <td>bandung 2007 belas</td>\n",
       "    </tr>\n",
       "    <tr>\n",
       "      <th>5</th>\n",
       "      <td>studi ini juga mendapati sebanyak empat puluh tiga percent anak yang datang</td>\n",
       "      <td>studi ini juga mendapati sebanyak empat puluh tiga persen anak yang datang</td>\n",
       "      <td>studi ini juga mendapati sebanyak 43 persen anak yang datang</td>\n",
       "    </tr>\n",
       "    <tr>\n",
       "      <th>6</th>\n",
       "      <td>bayangkan sudah lah ibu tunggal anak dua laki pulak makin bermasalah ketika itu</td>\n",
       "      <td>bayangkan sudahlai ibu tunggal anak dua lelaki</td>\n",
       "      <td>bayangkan sudahlai ibu tunggal anak 2 lelaki</td>\n",
       "    </tr>\n",
       "    <tr>\n",
       "      <th>7</th>\n",
       "      <td>sama kalau kekasih kau ikut jantan lain kan saving duit hantaran dua puluh k kau tu</td>\n",
       "      <td>sama kalau ke kasih kau ikut jantan lainkan sering duit hantara dua puluh ke kau tu</td>\n",
       "      <td>sama kalau ke kasih kau ikut jantan lainkan sering duit hantara 20 ke kau tu</td>\n",
       "    </tr>\n",
       "    <tr>\n",
       "      <th>8</th>\n",
       "      <td>empat puluh lima ahli belia yang dilantik itu menjadi penyambung legasi</td>\n",
       "      <td>empat puluh lima ahli belia yang dilantik itu menjadi penyambung legasi</td>\n",
       "      <td>45 ahli belia yang dilantik itu menjadi penyambung legasi</td>\n",
       "    </tr>\n",
       "    <tr>\n",
       "      <th>9</th>\n",
       "      <td>tertuju pada gerombolan laki laki di koridor kelas dua belas ipa enam sedang berkumpul</td>\n",
       "      <td>tertuju pada grumbulan lelaki laki di koridor kelas dua belas ip enam sedang</td>\n",
       "      <td>tertuju pada grumbulan lelaki laki di koridor kelas 2 belas ip 6 sedang</td>\n",
       "    </tr>\n",
       "  </tbody>\n",
       "</table>\n",
       "</div>"
      ],
      "text/plain": [
       "                                                                                                                             label  ...                                                                                 norm_pred\n",
       "0                                                            gila cape banget kecepatan lari kamu kalau lagi panik nambah dua kali  ...                   kilah capit bangyit kecapatan lari kamu kalau lagi panik enambah 2 kali\n",
       "1  pengalaman aku aku satu geng nak makan tengahari beli makanan aku ambik lauk telur jela nak jimat kawan aku ini ambik lauk ayam  ...  pengalaman aku aku 1 geng nak makan tengah hari boleh makanan aku ambil laut telur jelar\n",
       "2                                                                                                   aku ada dua orang sahabat baik  ...                                                              aku ada 2 orang sahabat baik\n",
       "3                                                    kelihatan selepas tujuh puluh dua jam daripada aktiviti tersebut atau selepas  ...                          kelihatan selepas 72 jam daripada aktiviti tersebut atau selepas\n",
       "4                                                                                                     bandung dua ribu tujuh belas  ...                                                                        bandung 2007 belas\n",
       "5                                                      studi ini juga mendapati sebanyak empat puluh tiga percent anak yang datang  ...                              studi ini juga mendapati sebanyak 43 persen anak yang datang\n",
       "6                                                  bayangkan sudah lah ibu tunggal anak dua laki pulak makin bermasalah ketika itu  ...                                              bayangkan sudahlai ibu tunggal anak 2 lelaki\n",
       "7                                              sama kalau kekasih kau ikut jantan lain kan saving duit hantaran dua puluh k kau tu  ...              sama kalau ke kasih kau ikut jantan lainkan sering duit hantara 20 ke kau tu\n",
       "8                                                          empat puluh lima ahli belia yang dilantik itu menjadi penyambung legasi  ...                                 45 ahli belia yang dilantik itu menjadi penyambung legasi\n",
       "9                                           tertuju pada gerombolan laki laki di koridor kelas dua belas ipa enam sedang berkumpul  ...                   tertuju pada grumbulan lelaki laki di koridor kelas 2 belas ip 6 sedang\n",
       "\n",
       "[10 rows x 3 columns]"
      ]
     },
     "execution_count": 11,
     "metadata": {},
     "output_type": "execute_result"
    }
   ],
   "source": [
    "df = pd.DataFrame(data)\n",
    "df.columns = [\"label\",\"pred\",\"norm_pred\"]\n",
    "df.head(10)"
   ]
  },
  {
   "cell_type": "code",
   "execution_count": 13,
   "metadata": {},
   "outputs": [],
   "source": [
    "# word to num normalization still wip, let use know if found a bug so we can fix it asap\n",
    "# TODO: fix belas word"
   ]
  },
  {
   "cell_type": "code",
   "execution_count": null,
   "metadata": {},
   "outputs": [],
   "source": []
  }
 ],
 "metadata": {
  "kernelspec": {
   "display_name": "Python 3",
   "language": "python",
   "name": "python3"
  },
  "language_info": {
   "codemirror_mode": {
    "name": "ipython",
    "version": 3
   },
   "file_extension": ".py",
   "mimetype": "text/x-python",
   "name": "python",
   "nbconvert_exporter": "python",
   "pygments_lexer": "ipython3",
   "version": "3.7.10"
  }
 },
 "nbformat": 4,
 "nbformat_minor": 2
}
