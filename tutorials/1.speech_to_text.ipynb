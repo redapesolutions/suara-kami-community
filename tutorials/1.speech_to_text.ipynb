{
 "cells": [
  {
   "cell_type": "code",
   "execution_count": 1,
   "metadata": {},
   "outputs": [],
   "source": [
    "# !pip install jiwer -qq"
   ]
  },
  {
   "cell_type": "code",
   "execution_count": 2,
   "metadata": {},
   "outputs": [],
   "source": [
    "%load_ext autoreload\n",
    "%autoreload 2"
   ]
  },
  {
   "cell_type": "code",
   "execution_count": 3,
   "metadata": {},
   "outputs": [],
   "source": [
    "from sk import predict\n",
    "import onnxruntime\n",
    "import onnx\n",
    "from pathlib import Path\n",
    "import jiwer\n",
    "import pandas as pd"
   ]
  },
  {
   "cell_type": "code",
   "execution_count": 4,
   "metadata": {},
   "outputs": [],
   "source": [
    "model = onnx.load(\"/content/neem/onnx/conformer_small.onnx\")\n",
    "model = onnxruntime.InferenceSession(model.SerializeToString())"
   ]
  },
  {
   "cell_type": "markdown",
   "metadata": {},
   "source": [
    "# Predict single or multiple file"
   ]
  },
  {
   "cell_type": "code",
   "execution_count": 5,
   "metadata": {},
   "outputs": [
    {
     "name": "stderr",
     "output_type": "stream",
     "text": [
      "\r",
      "  0%|          | 0/1 [00:00<?, ?it/s]"
     ]
    },
    {
     "name": "stdout",
     "output_type": "stream",
     "text": [
      "Total input path: 1\n",
      "Total audio found(.wav): 1\n",
      "start prediction\n"
     ]
    },
    {
     "name": "stderr",
     "output_type": "stream",
     "text": [
      "100%|██████████| 1/1 [00:01<00:00,  1.17s/it]\n"
     ]
    }
   ],
   "source": [
    "fn = \"/content/test/youtube/0228444ff34081eda587c0ca53712486.wav\"\n",
    "preds,files,entropy,timesteps = predict(fn,model)"
   ]
  },
  {
   "cell_type": "code",
   "execution_count": 6,
   "metadata": {},
   "outputs": [
    {
     "data": {
      "application/vnd.google.colaboratory.intrinsic+json": {
       "type": "string"
      },
      "text/plain": [
       "'pada peringkat ini pembukaan sekolah hanya melibatkan'"
      ]
     },
     "execution_count": 6,
     "metadata": {},
     "output_type": "execute_result"
    }
   ],
   "source": [
    "Path(fn).with_suffix(\".txt\").read_text()"
   ]
  },
  {
   "cell_type": "code",
   "execution_count": 7,
   "metadata": {},
   "outputs": [
    {
     "data": {
      "text/plain": [
       "('pada peringkat ini pembukaan sekolah hanya melibatkan', 0.08121918141841888)"
      ]
     },
     "execution_count": 7,
     "metadata": {},
     "output_type": "execute_result"
    }
   ],
   "source": [
    "preds[0],entropy[0].item()"
   ]
  },
  {
   "cell_type": "code",
   "execution_count": null,
   "metadata": {},
   "outputs": [],
   "source": []
  },
  {
   "cell_type": "markdown",
   "metadata": {},
   "source": [
    "# Predict from single or multiple folder"
   ]
  },
  {
   "cell_type": "code",
   "execution_count": 8,
   "metadata": {},
   "outputs": [
    {
     "name": "stderr",
     "output_type": "stream",
     "text": [
      "\r",
      "  0%|          | 0/243 [00:00<?, ?it/s]"
     ]
    },
    {
     "name": "stdout",
     "output_type": "stream",
     "text": [
      "Total input path: 1\n",
      "Total audio found(.wav): 243\n",
      "start prediction\n"
     ]
    },
    {
     "name": "stderr",
     "output_type": "stream",
     "text": [
      "100%|██████████| 243/243 [00:24<00:00,  9.86it/s]\n"
     ]
    }
   ],
   "source": [
    "fn = \"/content/test/\"\n",
    "preds,files,entropy,timesteps = predict(fn,model)"
   ]
  },
  {
   "cell_type": "code",
   "execution_count": 14,
   "metadata": {},
   "outputs": [],
   "source": [
    "data = []\n",
    "for i,j in zip(preds,files):\n",
    "    label = j.with_suffix('.txt').read_text()\n",
    "    data.append([j,label,i,jiwer.compute_measures(label,i)['wer'],jiwer.compute_measures([l for l in label],[ii for ii in i])['wer']])"
   ]
  },
  {
   "cell_type": "code",
   "execution_count": 15,
   "metadata": {},
   "outputs": [
    {
     "data": {
      "text/html": [
       "<div>\n",
       "<style scoped>\n",
       "    .dataframe tbody tr th:only-of-type {\n",
       "        vertical-align: middle;\n",
       "    }\n",
       "\n",
       "    .dataframe tbody tr th {\n",
       "        vertical-align: top;\n",
       "    }\n",
       "\n",
       "    .dataframe thead th {\n",
       "        text-align: right;\n",
       "    }\n",
       "</style>\n",
       "<table border=\"1\" class=\"dataframe\">\n",
       "  <thead>\n",
       "    <tr style=\"text-align: right;\">\n",
       "      <th></th>\n",
       "      <th>path</th>\n",
       "      <th>label</th>\n",
       "      <th>pred</th>\n",
       "      <th>wer</th>\n",
       "      <th>cer</th>\n",
       "    </tr>\n",
       "  </thead>\n",
       "  <tbody>\n",
       "    <tr>\n",
       "      <th>0</th>\n",
       "      <td>/content/test/youtube/63e3274518dd294e85f7c374...</td>\n",
       "      <td>belum menduduki sebarang peperiksaan okey ada ...</td>\n",
       "      <td>belum menduduki sebarang peperiksaan okey ada ...</td>\n",
       "      <td>0.25</td>\n",
       "      <td>0.145833</td>\n",
       "    </tr>\n",
       "    <tr>\n",
       "      <th>1</th>\n",
       "      <td>/content/test/youtube/0ca710eca52e9a83635d71ab...</td>\n",
       "      <td>duduklah aha ha</td>\n",
       "      <td>adalah</td>\n",
       "      <td>1.00</td>\n",
       "      <td>0.692308</td>\n",
       "    </tr>\n",
       "    <tr>\n",
       "      <th>2</th>\n",
       "      <td>/content/test/youtube/a07a8d2830fed6593449ceda...</td>\n",
       "      <td>sedia ada untuk penggal persekolahan yang kita...</td>\n",
       "      <td>sedia ada untuk penggal persekolahan yang kita...</td>\n",
       "      <td>0.00</td>\n",
       "      <td>0.000000</td>\n",
       "    </tr>\n",
       "    <tr>\n",
       "      <th>3</th>\n",
       "      <td>/content/test/youtube/7c8a921f6d3b20b94ec3a7b8...</td>\n",
       "      <td>assalamualaikum warahmatullah</td>\n",
       "      <td>assalamualaikum watmatullah</td>\n",
       "      <td>0.50</td>\n",
       "      <td>0.107143</td>\n",
       "    </tr>\n",
       "    <tr>\n",
       "      <th>4</th>\n",
       "      <td>/content/test/youtube/0872da274c3e1e24df22b58d...</td>\n",
       "      <td>apahal biasalah pak yah kes pak cik bahar lah tu</td>\n",
       "      <td>biasalah pakya kes pak cibahallah tu</td>\n",
       "      <td>0.60</td>\n",
       "      <td>0.230769</td>\n",
       "    </tr>\n",
       "  </tbody>\n",
       "</table>\n",
       "</div>"
      ],
      "text/plain": [
       "                                                path                                              label                                               pred   wer       cer\n",
       "0  /content/test/youtube/63e3274518dd294e85f7c374...  belum menduduki sebarang peperiksaan okey ada ...  belum menduduki sebarang peperiksaan okey ada ...  0.25  0.145833\n",
       "1  /content/test/youtube/0ca710eca52e9a83635d71ab...                                    duduklah aha ha                                             adalah  1.00  0.692308\n",
       "2  /content/test/youtube/a07a8d2830fed6593449ceda...  sedia ada untuk penggal persekolahan yang kita...  sedia ada untuk penggal persekolahan yang kita...  0.00  0.000000\n",
       "3  /content/test/youtube/7c8a921f6d3b20b94ec3a7b8...                      assalamualaikum warahmatullah                        assalamualaikum watmatullah  0.50  0.107143\n",
       "4  /content/test/youtube/0872da274c3e1e24df22b58d...   apahal biasalah pak yah kes pak cik bahar lah tu               biasalah pakya kes pak cibahallah tu  0.60  0.230769"
      ]
     },
     "execution_count": 15,
     "metadata": {},
     "output_type": "execute_result"
    }
   ],
   "source": [
    "df = pd.DataFrame(data)\n",
    "df.columns = [\"path\",\"label\",\"pred\",\"wer\",\"cer\"]\n",
    "df.head()"
   ]
  },
  {
   "cell_type": "code",
   "execution_count": 17,
   "metadata": {},
   "outputs": [
    {
     "data": {
      "text/plain": [
       "(0.24842461021815934, 0.0934487866621077)"
      ]
     },
     "execution_count": 17,
     "metadata": {},
     "output_type": "execute_result"
    }
   ],
   "source": [
    "df[\"wer\"].mean(),df[\"cer\"].mean()"
   ]
  },
  {
   "cell_type": "code",
   "execution_count": null,
   "metadata": {},
   "outputs": [],
   "source": []
  }
 ],
 "metadata": {
  "kernelspec": {
   "display_name": "Python 3",
   "language": "python",
   "name": "python3"
  },
  "language_info": {
   "codemirror_mode": {
    "name": "ipython",
    "version": 3
   },
   "file_extension": ".py",
   "mimetype": "text/x-python",
   "name": "python",
   "nbconvert_exporter": "python",
   "pygments_lexer": "ipython3",
   "version": "3.7.11"
  }
 },
 "nbformat": 4,
 "nbformat_minor": 2
}
