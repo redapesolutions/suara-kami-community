{
 "cells": [
  {
   "cell_type": "code",
   "execution_count": 1,
   "metadata": {},
   "outputs": [],
   "source": [
    "# !pip install jiwer -qq"
   ]
  },
  {
   "cell_type": "code",
   "execution_count": 2,
   "metadata": {},
   "outputs": [],
   "source": [
    "%load_ext autoreload\n",
    "%autoreload 2"
   ]
  },
  {
   "cell_type": "code",
   "execution_count": 3,
   "metadata": {},
   "outputs": [],
   "source": [
    "from sk import predict\n",
    "from pathlib import Path\n",
    "import jiwer\n",
    "import pandas as pd"
   ]
  },
  {
   "cell_type": "markdown",
   "metadata": {},
   "source": [
    "# Predict single or multiple file"
   ]
  },
  {
   "cell_type": "code",
   "execution_count": 4,
   "metadata": {},
   "outputs": [
    {
     "name": "stdout",
     "output_type": "stream",
     "text": [
      "Total input path: 1\n",
      "Total audio found(.wav): 1\n"
     ]
    },
    {
     "name": "stderr",
     "output_type": "stream",
     "text": [
      "100%|██████████| 1/1 [00:12<00:00, 12.54s/it]\n"
     ]
    }
   ],
   "source": [
    "fn = \"/content/test/youtube/0228444ff34081eda587c0ca53712486.wav\" # or [\"/content/audio1.wav\",\"/content/audio2.wav\"]\n",
    "out = predict(fn)"
   ]
  },
  {
   "cell_type": "code",
   "execution_count": 5,
   "metadata": {},
   "outputs": [
    {
     "data": {
      "application/vnd.google.colaboratory.intrinsic+json": {
       "type": "string"
      },
      "text/plain": [
       "'pada peringkat ini pembukaan sekolah hanya melibatkan'"
      ]
     },
     "execution_count": 5,
     "metadata": {},
     "output_type": "execute_result"
    }
   ],
   "source": [
    "Path(fn).with_suffix(\".txt\").read_text()"
   ]
  },
  {
   "cell_type": "code",
   "execution_count": 6,
   "metadata": {},
   "outputs": [
    {
     "data": {
      "text/plain": [
       "{'entropy': [0.08121918],\n",
       " 'filenames': [PosixPath('/content/test/youtube/0228444ff34081eda587c0ca53712486.wav')],\n",
       " 'texts': ['pada peringkat ini pembukaan sekolah hanya melibatkan'],\n",
       " 'timestamps': [[0]]}"
      ]
     },
     "execution_count": 6,
     "metadata": {},
     "output_type": "execute_result"
    }
   ],
   "source": [
    "out"
   ]
  },
  {
   "cell_type": "markdown",
   "metadata": {},
   "source": [
    "# Predict from single or multiple folder"
   ]
  },
  {
   "cell_type": "code",
   "execution_count": 7,
   "metadata": {},
   "outputs": [
    {
     "name": "stdout",
     "output_type": "stream",
     "text": [
      "Total input path: 1\n",
      "Total audio found(.wav): 1700\n"
     ]
    },
    {
     "name": "stderr",
     "output_type": "stream",
     "text": [
      "100%|██████████| 1700/1700 [00:44<00:00, 38.18it/s]\n"
     ]
    }
   ],
   "source": [
    "fn = \"/content/test/\" # or [\"/content/test\",\"/content/data\"]\n",
    "out = predict(fn)"
   ]
  },
  {
   "cell_type": "code",
   "execution_count": 8,
   "metadata": {},
   "outputs": [
    {
     "data": {
      "text/plain": [
       "dict_keys(['texts', 'filenames', 'entropy', 'timestamps'])"
      ]
     },
     "execution_count": 8,
     "metadata": {},
     "output_type": "execute_result"
    }
   ],
   "source": [
    "out.keys()"
   ]
  },
  {
   "cell_type": "code",
   "execution_count": 9,
   "metadata": {},
   "outputs": [],
   "source": [
    "preds = out[\"texts\"]\n",
    "files = out[\"filenames\"]"
   ]
  },
  {
   "cell_type": "code",
   "execution_count": 10,
   "metadata": {},
   "outputs": [],
   "source": [
    "data = []\n",
    "for i,j in zip(preds,files):\n",
    "    label = j.with_suffix('.txt').read_text()\n",
    "    data.append([j,label,i,jiwer.compute_measures(label,i)['wer'],jiwer.compute_measures([l for l in label],[ii for ii in i])['wer']])"
   ]
  },
  {
   "cell_type": "code",
   "execution_count": 11,
   "metadata": {},
   "outputs": [
    {
     "data": {
      "text/html": [
       "<div>\n",
       "<style scoped>\n",
       "    .dataframe tbody tr th:only-of-type {\n",
       "        vertical-align: middle;\n",
       "    }\n",
       "\n",
       "    .dataframe tbody tr th {\n",
       "        vertical-align: top;\n",
       "    }\n",
       "\n",
       "    .dataframe thead th {\n",
       "        text-align: right;\n",
       "    }\n",
       "</style>\n",
       "<table border=\"1\" class=\"dataframe\">\n",
       "  <thead>\n",
       "    <tr style=\"text-align: right;\">\n",
       "      <th></th>\n",
       "      <th>path</th>\n",
       "      <th>label</th>\n",
       "      <th>pred</th>\n",
       "      <th>wer</th>\n",
       "      <th>cer</th>\n",
       "    </tr>\n",
       "  </thead>\n",
       "  <tbody>\n",
       "    <tr>\n",
       "      <th>0</th>\n",
       "      <td>/content/test/youtube/3c2881b53e27b9e88c959ec5...</td>\n",
       "      <td>kata elf itu dengan mata yang hampir juling</td>\n",
       "      <td>kata elf itu dengan mata yang hampir julin</td>\n",
       "      <td>0.125000</td>\n",
       "      <td>0.027778</td>\n",
       "    </tr>\n",
       "    <tr>\n",
       "      <th>1</th>\n",
       "      <td>/content/test/youtube/03d1c83291b3d849aa5884da...</td>\n",
       "      <td>dia kemudian menuju ke sangka hedwig</td>\n",
       "      <td>dia kemudian menuju ke sangkar hadwik</td>\n",
       "      <td>0.333333</td>\n",
       "      <td>0.096774</td>\n",
       "    </tr>\n",
       "    <tr>\n",
       "      <th>2</th>\n",
       "      <td>/content/test/youtube/bc83ca364b212668c4bdb024...</td>\n",
       "      <td>bahawa kamu telah diberi surat amaran kerana m...</td>\n",
       "      <td>bahawa kamu telah dia beri surat amaran kerana...</td>\n",
       "      <td>0.454545</td>\n",
       "      <td>0.030769</td>\n",
       "    </tr>\n",
       "    <tr>\n",
       "      <th>3</th>\n",
       "      <td>/content/test/youtube/20d8544a793cbb99814af7dc...</td>\n",
       "      <td>dia kan selalu keluar masuk penjara dia buat h...</td>\n",
       "      <td>diakan selalu keluar masuk penjara di buat hal...</td>\n",
       "      <td>0.416667</td>\n",
       "      <td>0.020408</td>\n",
       "    </tr>\n",
       "    <tr>\n",
       "      <th>4</th>\n",
       "      <td>/content/test/youtube/f406be18105a3f50c9e74a97...</td>\n",
       "      <td>persekolahan malaysia s t p m sijil tinggi aga...</td>\n",
       "      <td>persekolahan malaysia stpm sijil tinggi agama ...</td>\n",
       "      <td>0.400000</td>\n",
       "      <td>0.000000</td>\n",
       "    </tr>\n",
       "  </tbody>\n",
       "</table>\n",
       "</div>"
      ],
      "text/plain": [
       "                                                path                                              label                                               pred       wer       cer\n",
       "0  /content/test/youtube/3c2881b53e27b9e88c959ec5...        kata elf itu dengan mata yang hampir juling         kata elf itu dengan mata yang hampir julin  0.125000  0.027778\n",
       "1  /content/test/youtube/03d1c83291b3d849aa5884da...               dia kemudian menuju ke sangka hedwig              dia kemudian menuju ke sangkar hadwik  0.333333  0.096774\n",
       "2  /content/test/youtube/bc83ca364b212668c4bdb024...  bahawa kamu telah diberi surat amaran kerana m...  bahawa kamu telah dia beri surat amaran kerana...  0.454545  0.030769\n",
       "3  /content/test/youtube/20d8544a793cbb99814af7dc...  dia kan selalu keluar masuk penjara dia buat h...  diakan selalu keluar masuk penjara di buat hal...  0.416667  0.020408\n",
       "4  /content/test/youtube/f406be18105a3f50c9e74a97...  persekolahan malaysia s t p m sijil tinggi aga...  persekolahan malaysia stpm sijil tinggi agama ...  0.400000  0.000000"
      ]
     },
     "execution_count": 11,
     "metadata": {},
     "output_type": "execute_result"
    }
   ],
   "source": [
    "df = pd.DataFrame(data)\n",
    "df.columns = [\"path\",\"label\",\"pred\",\"wer\",\"cer\"]\n",
    "df.head()"
   ]
  },
  {
   "cell_type": "code",
   "execution_count": 12,
   "metadata": {},
   "outputs": [
    {
     "data": {
      "text/plain": [
       "(0.07758634045136971, 0.025199577423303785)"
      ]
     },
     "execution_count": 12,
     "metadata": {},
     "output_type": "execute_result"
    }
   ],
   "source": [
    "df[\"wer\"].mean(),df[\"cer\"].mean()"
   ]
  },
  {
   "cell_type": "code",
   "execution_count": null,
   "metadata": {},
   "outputs": [],
   "source": []
  }
 ],
 "metadata": {
  "kernelspec": {
   "display_name": "Python 3",
   "language": "python",
   "name": "python3"
  },
  "language_info": {
   "codemirror_mode": {
    "name": "ipython",
    "version": 3
   },
   "file_extension": ".py",
   "mimetype": "text/x-python",
   "name": "python",
   "nbconvert_exporter": "python",
   "pygments_lexer": "ipython3",
   "version": "3.7.11"
  }
 },
 "nbformat": 4,
 "nbformat_minor": 2
}
